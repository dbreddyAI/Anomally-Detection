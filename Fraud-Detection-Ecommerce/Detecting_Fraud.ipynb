{
 "cells": [
  {
   "cell_type": "markdown",
   "metadata": {},
   "source": [
    "# Detecting Fraudulent Activities\n",
    "\n",
    "**Background**:   \n",
    "I am given a dataset from a company running an e-commerce website that sells hand-made clothes. It contains information on the first transactions of many different users as well as whether a given user went on to perform fraudulent activity or not.\n",
    "\n",
    "**Goals**:   \n",
    "* Determine the country of all users based on their IP addresses\n",
    "* Build a model that predicts the probability that the first transaction of a new user is fraudulent. Explain how different assumptions about the cost of false positives vs false negatives impact the model.\n",
    "* Explain to your boss (who is not technical at all!!) how the model is making predictions and why they should trust it. Do this from a user perspective, i.e., describe what kind of users are more likely to be classified at risk, what are their characteristics, why is this reasonable? Your boss is afraid you might turn away valid paying customers by accident with such a tool.\n",
    "* If your model is now live and making predictions in real time, describe how it should be used from a product perspective, i.e., what kind of user experiences would you recommend be built based on the model output?\n",
    "\n",
    "**Results**:\n",
    "* The most important features in spotting fraud were determined to be:\n",
    "    * The speed at which they moved through the entire sales funnel (from sign-up to purchase)\n",
    "    * Whether or not multiple user id's were being generated from a single device or ip address\n",
    "* It turns out that not all ip addresses in the dataset can be tracked to a country of origin. It's not clear whether the list of countries and ip address bounds is incomplete, some ip addresses were faked, or an error occurred in recording the ip address. Regardless, country of origin does not play a significant role in determining fraudsters so it doesn't really matter.\n",
    "* I built two models:\n",
    "    * Isolation forest: a supervised alogorithm based on analyzing how many splits on features are necessary to isolate a given sample.\n",
    "    * One Class Support Vector Machine: an unsupervised algorithm based on learning a decision boundary surrounding non-anomalous data and then trying to identify anomalies by determining their distance from this boundary.     \n",
    "* It is important to both correctly identify fraudulent behaviour when it arises (we want a high precision) and not flag normal users as fraudulent ones, thereby alienating our customer base (we want a high recall). To optimize for both precision and recall simultaneously, I decided to optimize for F1 score, the harmonic mean of precision and recall, rather than accuracy. Using this method of optimization, I found that **the isolation forest performs better than the one class SVM**. Although the SVM has comparable precision, recall, and F1 scores to the isolation forest, it is not as flexible as the isolation forest in dealing with non-gaussian, multi-modal data.\n",
    "\n",
    "\n",
    "**Non-technical explanation**:   \n",
    "\n",
    "Although the two models developed approach the problem differently, both are trying to ascertain what \"normal\" user behaviour is in terms of how much a \"normal\" user spends, how fast they move through the sales funnel, their age, etc. These characteristics are all represented by numbers and these numbers will tend to be somewhat similar values for \"normal\" users. For fraudulent users, some of these numbers may be quite different and it is this departure from \"normal\" behaviour that these models are trying to discover. The models leverage these numbers and advanced statistical techniques to also characterize, with numbers, just how different a fraudulent user behaviour is from that of a \"normal\" user. Using these techniques, I discovered that the users who are most likely to be classified as a risk by these models are those who:\n",
    "1. have multiple user id's associated with a single device or ip address \n",
    "2. move from sign-up to purchase in extremely short periods of time. \n",
    "    \n",
    "For point 1., a user may forget their username/password and therefore sign up again, generating a new user id for the same device or ip address. However, in this case it is highly likely that only one user id would be used at a time. If multiple user ids are in use simultaneously, this may signal that someone has set up a botnet to interact with the website. Moreover, many of the fraudulent activities in the dataset were associated with devices or ip addresses making use of up to 10+ user ids. This is certainly not something a \"normal\" user would ever do. \n",
    "    \n",
    "For point 2., a typical time period that would potentially result in a red flag from one of these algorithms is 1-2 seconds. A normal user takes a few minutes to simply navigate the website even if they've already made the decision to purchase. This time is extended if the user has to make any decisions about their purchase. If the entire sales funnel is being traversed in literally 1-2 seconds, this is again a likely sign that it is actually a bot of some kind interacting with the website.\n",
    "    \n",
    "**Recommendations**:   \n",
    "I recommend implementing the isolation forest model into production. I also have two specific recommendations for the user experience team and one for the security team.\n",
    "1. Make sure to require the full name and email address from a user in order to sign up. When a user forgets their username/password, give them an easy path to follow to **reset** their password and require their full name and email address in order to do it. That way, the user's original user id can be found in the database and deleted before giving them a new user id. This minimizes the chances of a normal user having multiple user id's and reduces the chances of mistaking them for a fraudster.\n",
    "2. After a user signs up, immediately present them with potential offers/discounts if possible. This could be advertised as a simple thank you for signing up but, for normal users, it will increase their chances of moving to purchase while also giving them something to consider and thereby slowing them down a little bit, making it harder to confuse them with a bot which would likely ignore all offers for discounts.\n",
    "3. Finally, I also strongly recommend enhancing security during the first three weeks of the year as there seems to be a spike in fraudulent activity during that time."
   ]
  },
  {
   "cell_type": "markdown",
   "metadata": {},
   "source": [
    "First, I'll list all imports"
   ]
  },
  {
   "cell_type": "code",
   "execution_count": 3,
   "metadata": {},
   "outputs": [],
   "source": [
    "# Analysis imports\n",
    "import numpy as np\n",
    "import pandas as pd\n",
    "from scipy import special\n",
    "from random import sample\n",
    "\n",
    "# Visualization imports\n",
    "import matplotlib.pyplot as plt\n",
    "import seaborn as sns\n",
    "%matplotlib inline\n",
    "\n",
    "# Modeling imports\n",
    "from sklearn.preprocessing import RobustScaler\n",
    "from sklearn.ensemble import ExtraTreesClassifier\n",
    "from sklearn.model_selection import train_test_split\n",
    "from sklearn.ensemble import IsolationForest\n",
    "from sklearn.svm import OneClassSVM\n",
    "from sklearn.model_selection import GridSearchCV\n",
    "from sklearn.metrics import classification_report, roc_auc_score, roc_curve\n",
    "from sklearn.metrics import f1_score\n",
    "\n",
    "# Miscellaneous imports\n",
    "import itertools\n",
    "from datetime import timedelta\n",
    "from IPython.display import display\n",
    "\n",
    "# Miscellaneous settings\n",
    "pd.options.display.max_seq_items = 2000"
   ]
  },
  {
   "cell_type": "markdown",
   "metadata": {},
   "source": [
    "## Read in and clean the data"
   ]
  },
  {
   "cell_type": "code",
   "execution_count": 4,
   "metadata": {},
   "outputs": [],
   "source": [
    "# Read in fraud data\n",
    "fraud_df = pd.read_csv(\"Fraud_Data/Fraud_Data.csv\", header=0)\n",
    "\n",
    "# Read in ISP data\n",
    "ISP_df = pd.read_csv(\"Fraud_Data/IpAddress_to_Country.csv\", header=0)"
   ]
  },
  {
   "cell_type": "markdown",
   "metadata": {},
   "source": [
    "### Fraud data\n",
    "First, check format of columns in fraud datset."
   ]
  },
  {
   "cell_type": "code",
   "execution_count": 5,
   "metadata": {},
   "outputs": [
    {
     "data": {
      "text/html": [
       "<div>\n",
       "<style scoped>\n",
       "    .dataframe tbody tr th:only-of-type {\n",
       "        vertical-align: middle;\n",
       "    }\n",
       "\n",
       "    .dataframe tbody tr th {\n",
       "        vertical-align: top;\n",
       "    }\n",
       "\n",
       "    .dataframe thead th {\n",
       "        text-align: right;\n",
       "    }\n",
       "</style>\n",
       "<table border=\"1\" class=\"dataframe\">\n",
       "  <thead>\n",
       "    <tr style=\"text-align: right;\">\n",
       "      <th></th>\n",
       "      <th>user_id</th>\n",
       "      <th>signup_time</th>\n",
       "      <th>purchase_time</th>\n",
       "      <th>purchase_value</th>\n",
       "      <th>device_id</th>\n",
       "      <th>source</th>\n",
       "      <th>browser</th>\n",
       "      <th>sex</th>\n",
       "      <th>age</th>\n",
       "      <th>ip_address</th>\n",
       "      <th>class</th>\n",
       "    </tr>\n",
       "  </thead>\n",
       "  <tbody>\n",
       "    <tr>\n",
       "      <th>0</th>\n",
       "      <td>22058</td>\n",
       "      <td>2015-02-24 22:55:49</td>\n",
       "      <td>2015-04-18 02:47:11</td>\n",
       "      <td>34</td>\n",
       "      <td>QVPSPJUOCKZAR</td>\n",
       "      <td>SEO</td>\n",
       "      <td>Chrome</td>\n",
       "      <td>M</td>\n",
       "      <td>39</td>\n",
       "      <td>7.327584e+08</td>\n",
       "      <td>0</td>\n",
       "    </tr>\n",
       "    <tr>\n",
       "      <th>1</th>\n",
       "      <td>333320</td>\n",
       "      <td>2015-06-07 20:39:50</td>\n",
       "      <td>2015-06-08 01:38:54</td>\n",
       "      <td>16</td>\n",
       "      <td>EOGFQPIZPYXFZ</td>\n",
       "      <td>Ads</td>\n",
       "      <td>Chrome</td>\n",
       "      <td>F</td>\n",
       "      <td>53</td>\n",
       "      <td>3.503114e+08</td>\n",
       "      <td>0</td>\n",
       "    </tr>\n",
       "    <tr>\n",
       "      <th>2</th>\n",
       "      <td>1359</td>\n",
       "      <td>2015-01-01 18:52:44</td>\n",
       "      <td>2015-01-01 18:52:45</td>\n",
       "      <td>15</td>\n",
       "      <td>YSSKYOSJHPPLJ</td>\n",
       "      <td>SEO</td>\n",
       "      <td>Opera</td>\n",
       "      <td>M</td>\n",
       "      <td>53</td>\n",
       "      <td>2.621474e+09</td>\n",
       "      <td>1</td>\n",
       "    </tr>\n",
       "    <tr>\n",
       "      <th>3</th>\n",
       "      <td>150084</td>\n",
       "      <td>2015-04-28 21:13:25</td>\n",
       "      <td>2015-05-04 13:54:50</td>\n",
       "      <td>44</td>\n",
       "      <td>ATGTXKYKUDUQN</td>\n",
       "      <td>SEO</td>\n",
       "      <td>Safari</td>\n",
       "      <td>M</td>\n",
       "      <td>41</td>\n",
       "      <td>3.840542e+09</td>\n",
       "      <td>0</td>\n",
       "    </tr>\n",
       "    <tr>\n",
       "      <th>4</th>\n",
       "      <td>221365</td>\n",
       "      <td>2015-07-21 07:09:52</td>\n",
       "      <td>2015-09-09 18:40:53</td>\n",
       "      <td>39</td>\n",
       "      <td>NAUITBZFJKHWW</td>\n",
       "      <td>Ads</td>\n",
       "      <td>Safari</td>\n",
       "      <td>M</td>\n",
       "      <td>45</td>\n",
       "      <td>4.155831e+08</td>\n",
       "      <td>0</td>\n",
       "    </tr>\n",
       "  </tbody>\n",
       "</table>\n",
       "</div>"
      ],
      "text/plain": [
       "   user_id          signup_time        purchase_time  purchase_value  \\\n",
       "0    22058  2015-02-24 22:55:49  2015-04-18 02:47:11              34   \n",
       "1   333320  2015-06-07 20:39:50  2015-06-08 01:38:54              16   \n",
       "2     1359  2015-01-01 18:52:44  2015-01-01 18:52:45              15   \n",
       "3   150084  2015-04-28 21:13:25  2015-05-04 13:54:50              44   \n",
       "4   221365  2015-07-21 07:09:52  2015-09-09 18:40:53              39   \n",
       "\n",
       "       device_id source browser sex  age    ip_address  class  \n",
       "0  QVPSPJUOCKZAR    SEO  Chrome   M   39  7.327584e+08      0  \n",
       "1  EOGFQPIZPYXFZ    Ads  Chrome   F   53  3.503114e+08      0  \n",
       "2  YSSKYOSJHPPLJ    SEO   Opera   M   53  2.621474e+09      1  \n",
       "3  ATGTXKYKUDUQN    SEO  Safari   M   41  3.840542e+09      0  \n",
       "4  NAUITBZFJKHWW    Ads  Safari   M   45  4.155831e+08      0  "
      ]
     },
     "execution_count": 5,
     "metadata": {},
     "output_type": "execute_result"
    }
   ],
   "source": [
    "fraud_df.head()"
   ]
  },
  {
   "cell_type": "code",
   "execution_count": 6,
   "metadata": {},
   "outputs": [
    {
     "name": "stdout",
     "output_type": "stream",
     "text": [
      "<class 'pandas.core.frame.DataFrame'>\n",
      "RangeIndex: 151112 entries, 0 to 151111\n",
      "Data columns (total 11 columns):\n",
      " #   Column          Non-Null Count   Dtype  \n",
      "---  ------          --------------   -----  \n",
      " 0   user_id         151112 non-null  int64  \n",
      " 1   signup_time     151112 non-null  object \n",
      " 2   purchase_time   151112 non-null  object \n",
      " 3   purchase_value  151112 non-null  int64  \n",
      " 4   device_id       151112 non-null  object \n",
      " 5   source          151112 non-null  object \n",
      " 6   browser         151112 non-null  object \n",
      " 7   sex             151112 non-null  object \n",
      " 8   age             151112 non-null  int64  \n",
      " 9   ip_address      151112 non-null  float64\n",
      " 10  class           151112 non-null  int64  \n",
      "dtypes: float64(1), int64(4), object(6)\n",
      "memory usage: 12.7+ MB\n"
     ]
    }
   ],
   "source": [
    "fraud_df.info()"
   ]
  },
  {
   "cell_type": "markdown",
   "metadata": {},
   "source": [
    "Check for null values"
   ]
  },
  {
   "cell_type": "code",
   "execution_count": 8,
   "metadata": {},
   "outputs": [
    {
     "data": {
      "text/plain": [
       "user_id           0\n",
       "signup_time       0\n",
       "purchase_time     0\n",
       "purchase_value    0\n",
       "device_id         0\n",
       "source            0\n",
       "browser           0\n",
       "sex               0\n",
       "age               0\n",
       "ip_address        0\n",
       "class             0\n",
       "dtype: int64"
      ]
     },
     "execution_count": 8,
     "metadata": {},
     "output_type": "execute_result"
    }
   ],
   "source": [
    "# Check for nulls\n",
    "fraud_df.isna().sum()"
   ]
  },
  {
   "cell_type": "markdown",
   "metadata": {},
   "source": [
    "Finally, look at some descriptive stats"
   ]
  },
  {
   "cell_type": "code",
   "execution_count": 9,
   "metadata": {},
   "outputs": [
    {
     "data": {
      "text/html": [
       "<div>\n",
       "<style scoped>\n",
       "    .dataframe tbody tr th:only-of-type {\n",
       "        vertical-align: middle;\n",
       "    }\n",
       "\n",
       "    .dataframe tbody tr th {\n",
       "        vertical-align: top;\n",
       "    }\n",
       "\n",
       "    .dataframe thead th {\n",
       "        text-align: right;\n",
       "    }\n",
       "</style>\n",
       "<table border=\"1\" class=\"dataframe\">\n",
       "  <thead>\n",
       "    <tr style=\"text-align: right;\">\n",
       "      <th></th>\n",
       "      <th>user_id</th>\n",
       "      <th>purchase_value</th>\n",
       "      <th>age</th>\n",
       "      <th>ip_address</th>\n",
       "      <th>class</th>\n",
       "    </tr>\n",
       "  </thead>\n",
       "  <tbody>\n",
       "    <tr>\n",
       "      <th>count</th>\n",
       "      <td>151112.000000</td>\n",
       "      <td>151112.000000</td>\n",
       "      <td>151112.000000</td>\n",
       "      <td>1.511120e+05</td>\n",
       "      <td>151112.000000</td>\n",
       "    </tr>\n",
       "    <tr>\n",
       "      <th>mean</th>\n",
       "      <td>200171.040970</td>\n",
       "      <td>36.935372</td>\n",
       "      <td>33.140704</td>\n",
       "      <td>2.152145e+09</td>\n",
       "      <td>0.093646</td>\n",
       "    </tr>\n",
       "    <tr>\n",
       "      <th>std</th>\n",
       "      <td>115369.285024</td>\n",
       "      <td>18.322762</td>\n",
       "      <td>8.617733</td>\n",
       "      <td>1.248497e+09</td>\n",
       "      <td>0.291336</td>\n",
       "    </tr>\n",
       "    <tr>\n",
       "      <th>min</th>\n",
       "      <td>2.000000</td>\n",
       "      <td>9.000000</td>\n",
       "      <td>18.000000</td>\n",
       "      <td>5.209350e+04</td>\n",
       "      <td>0.000000</td>\n",
       "    </tr>\n",
       "    <tr>\n",
       "      <th>25%</th>\n",
       "      <td>100642.500000</td>\n",
       "      <td>22.000000</td>\n",
       "      <td>27.000000</td>\n",
       "      <td>1.085934e+09</td>\n",
       "      <td>0.000000</td>\n",
       "    </tr>\n",
       "    <tr>\n",
       "      <th>50%</th>\n",
       "      <td>199958.000000</td>\n",
       "      <td>35.000000</td>\n",
       "      <td>33.000000</td>\n",
       "      <td>2.154770e+09</td>\n",
       "      <td>0.000000</td>\n",
       "    </tr>\n",
       "    <tr>\n",
       "      <th>75%</th>\n",
       "      <td>300054.000000</td>\n",
       "      <td>49.000000</td>\n",
       "      <td>39.000000</td>\n",
       "      <td>3.243258e+09</td>\n",
       "      <td>0.000000</td>\n",
       "    </tr>\n",
       "    <tr>\n",
       "      <th>max</th>\n",
       "      <td>400000.000000</td>\n",
       "      <td>154.000000</td>\n",
       "      <td>76.000000</td>\n",
       "      <td>4.294850e+09</td>\n",
       "      <td>1.000000</td>\n",
       "    </tr>\n",
       "  </tbody>\n",
       "</table>\n",
       "</div>"
      ],
      "text/plain": [
       "             user_id  purchase_value            age    ip_address  \\\n",
       "count  151112.000000   151112.000000  151112.000000  1.511120e+05   \n",
       "mean   200171.040970       36.935372      33.140704  2.152145e+09   \n",
       "std    115369.285024       18.322762       8.617733  1.248497e+09   \n",
       "min         2.000000        9.000000      18.000000  5.209350e+04   \n",
       "25%    100642.500000       22.000000      27.000000  1.085934e+09   \n",
       "50%    199958.000000       35.000000      33.000000  2.154770e+09   \n",
       "75%    300054.000000       49.000000      39.000000  3.243258e+09   \n",
       "max    400000.000000      154.000000      76.000000  4.294850e+09   \n",
       "\n",
       "               class  \n",
       "count  151112.000000  \n",
       "mean        0.093646  \n",
       "std         0.291336  \n",
       "min         0.000000  \n",
       "25%         0.000000  \n",
       "50%         0.000000  \n",
       "75%         0.000000  \n",
       "max         1.000000  "
      ]
     },
     "execution_count": 9,
     "metadata": {},
     "output_type": "execute_result"
    }
   ],
   "source": [
    "fraud_df.describe()"
   ]
  },
  {
   "cell_type": "markdown",
   "metadata": {},
   "source": [
    "### ISP data\n",
    "First, check format of columns in ISP dataset."
   ]
  },
  {
   "cell_type": "code",
   "execution_count": 10,
   "metadata": {},
   "outputs": [
    {
     "data": {
      "text/html": [
       "<div>\n",
       "<style scoped>\n",
       "    .dataframe tbody tr th:only-of-type {\n",
       "        vertical-align: middle;\n",
       "    }\n",
       "\n",
       "    .dataframe tbody tr th {\n",
       "        vertical-align: top;\n",
       "    }\n",
       "\n",
       "    .dataframe thead th {\n",
       "        text-align: right;\n",
       "    }\n",
       "</style>\n",
       "<table border=\"1\" class=\"dataframe\">\n",
       "  <thead>\n",
       "    <tr style=\"text-align: right;\">\n",
       "      <th></th>\n",
       "      <th>lower_bound_ip_address</th>\n",
       "      <th>upper_bound_ip_address</th>\n",
       "      <th>country</th>\n",
       "    </tr>\n",
       "  </thead>\n",
       "  <tbody>\n",
       "    <tr>\n",
       "      <th>0</th>\n",
       "      <td>16777216.0</td>\n",
       "      <td>16777471</td>\n",
       "      <td>Australia</td>\n",
       "    </tr>\n",
       "    <tr>\n",
       "      <th>1</th>\n",
       "      <td>16777472.0</td>\n",
       "      <td>16777727</td>\n",
       "      <td>China</td>\n",
       "    </tr>\n",
       "    <tr>\n",
       "      <th>2</th>\n",
       "      <td>16777728.0</td>\n",
       "      <td>16778239</td>\n",
       "      <td>China</td>\n",
       "    </tr>\n",
       "    <tr>\n",
       "      <th>3</th>\n",
       "      <td>16778240.0</td>\n",
       "      <td>16779263</td>\n",
       "      <td>Australia</td>\n",
       "    </tr>\n",
       "    <tr>\n",
       "      <th>4</th>\n",
       "      <td>16779264.0</td>\n",
       "      <td>16781311</td>\n",
       "      <td>China</td>\n",
       "    </tr>\n",
       "  </tbody>\n",
       "</table>\n",
       "</div>"
      ],
      "text/plain": [
       "   lower_bound_ip_address  upper_bound_ip_address    country\n",
       "0              16777216.0                16777471  Australia\n",
       "1              16777472.0                16777727      China\n",
       "2              16777728.0                16778239      China\n",
       "3              16778240.0                16779263  Australia\n",
       "4              16779264.0                16781311      China"
      ]
     },
     "execution_count": 10,
     "metadata": {},
     "output_type": "execute_result"
    }
   ],
   "source": [
    "ISP_df.head()"
   ]
  },
  {
   "cell_type": "code",
   "execution_count": 12,
   "metadata": {},
   "outputs": [
    {
     "data": {
      "text/plain": [
       "array([1.67772160e+07, 1.67774720e+07, 1.67777280e+07, ...,\n",
       "       3.75809536e+09, 3.75809587e+09, 3.75809613e+09])"
      ]
     },
     "execution_count": 12,
     "metadata": {},
     "output_type": "execute_result"
    }
   ],
   "source": [
    "ISP_df.lower_bound_ip_address.unique()"
   ]
  },
  {
   "cell_type": "code",
   "execution_count": 15,
   "metadata": {},
   "outputs": [
    {
     "name": "stdout",
     "output_type": "stream",
     "text": [
      "<class 'pandas.core.frame.DataFrame'>\n",
      "RangeIndex: 138846 entries, 0 to 138845\n",
      "Data columns (total 3 columns):\n",
      " #   Column                  Non-Null Count   Dtype \n",
      "---  ------                  --------------   ----- \n",
      " 0   lower_bound_ip_address  138846 non-null  int32 \n",
      " 1   upper_bound_ip_address  138846 non-null  int64 \n",
      " 2   country                 138846 non-null  object\n",
      "dtypes: int32(1), int64(1), object(1)\n",
      "memory usage: 2.6+ MB\n"
     ]
    }
   ],
   "source": [
    "ISP_df.info()"
   ]
  },
  {
   "cell_type": "markdown",
   "metadata": {},
   "source": [
    "It's not clear whether the lower bound for the ip address is actually a float, i.e., has non-zero decimals, or is just an integer with a zero decimal."
   ]
  },
  {
   "cell_type": "code",
   "execution_count": 8,
   "metadata": {},
   "outputs": [
    {
     "name": "stdout",
     "output_type": "stream",
     "text": [
      "Number of non-zero decimal ip address lower bounds: 0\n"
     ]
    }
   ],
   "source": [
    "ip_floats = ISP_df.lower_bound_ip_address.apply(lambda x: not x.is_integer()).sum()\n",
    "print \"Number of non-zero decimal ip address lower bounds: {}\".format(ip_floats)"
   ]
  },
  {
   "cell_type": "markdown",
   "metadata": {},
   "source": [
    "It's just a bunch of integers with zero decimals so I'll convert the entire series to int64."
   ]
  },
  {
   "cell_type": "code",
   "execution_count": 14,
   "metadata": {},
   "outputs": [],
   "source": [
    "ISP_df.lower_bound_ip_address=ISP_df.lower_bound_ip_address.astype(int)"
   ]
  },
  {
   "cell_type": "markdown",
   "metadata": {},
   "source": [
    "Just to be sure, I'll also check for null values"
   ]
  },
  {
   "cell_type": "code",
   "execution_count": 17,
   "metadata": {},
   "outputs": [
    {
     "data": {
      "text/plain": [
       "lower_bound_ip_address    0\n",
       "upper_bound_ip_address    0\n",
       "country                   0\n",
       "dtype: int64"
      ]
     },
     "execution_count": 17,
     "metadata": {},
     "output_type": "execute_result"
    }
   ],
   "source": [
    "# Check for nulls\n",
    "ISP_df.isna().sum()"
   ]
  },
  {
   "cell_type": "markdown",
   "metadata": {},
   "source": [
    "Finally, I'll just take a look at some descriptive stats."
   ]
  },
  {
   "cell_type": "code",
   "execution_count": 18,
   "metadata": {},
   "outputs": [
    {
     "data": {
      "text/html": [
       "<div>\n",
       "<style scoped>\n",
       "    .dataframe tbody tr th:only-of-type {\n",
       "        vertical-align: middle;\n",
       "    }\n",
       "\n",
       "    .dataframe tbody tr th {\n",
       "        vertical-align: top;\n",
       "    }\n",
       "\n",
       "    .dataframe thead th {\n",
       "        text-align: right;\n",
       "    }\n",
       "</style>\n",
       "<table border=\"1\" class=\"dataframe\">\n",
       "  <thead>\n",
       "    <tr style=\"text-align: right;\">\n",
       "      <th></th>\n",
       "      <th>lower_bound_ip_address</th>\n",
       "      <th>upper_bound_ip_address</th>\n",
       "    </tr>\n",
       "  </thead>\n",
       "  <tbody>\n",
       "    <tr>\n",
       "      <th>count</th>\n",
       "      <td>1.388460e+05</td>\n",
       "      <td>1.388460e+05</td>\n",
       "    </tr>\n",
       "    <tr>\n",
       "      <th>mean</th>\n",
       "      <td>-1.214785e+09</td>\n",
       "      <td>2.724557e+09</td>\n",
       "    </tr>\n",
       "    <tr>\n",
       "      <th>std</th>\n",
       "      <td>1.563396e+09</td>\n",
       "      <td>8.974979e+08</td>\n",
       "    </tr>\n",
       "    <tr>\n",
       "      <th>min</th>\n",
       "      <td>-2.147484e+09</td>\n",
       "      <td>1.677747e+07</td>\n",
       "    </tr>\n",
       "    <tr>\n",
       "      <th>25%</th>\n",
       "      <td>-2.147484e+09</td>\n",
       "      <td>1.920008e+09</td>\n",
       "    </tr>\n",
       "    <tr>\n",
       "      <th>50%</th>\n",
       "      <td>-2.147484e+09</td>\n",
       "      <td>3.230888e+09</td>\n",
       "    </tr>\n",
       "    <tr>\n",
       "      <th>75%</th>\n",
       "      <td>5.228780e+08</td>\n",
       "      <td>3.350466e+09</td>\n",
       "    </tr>\n",
       "    <tr>\n",
       "      <th>max</th>\n",
       "      <td>2.113929e+09</td>\n",
       "      <td>3.758096e+09</td>\n",
       "    </tr>\n",
       "  </tbody>\n",
       "</table>\n",
       "</div>"
      ],
      "text/plain": [
       "       lower_bound_ip_address  upper_bound_ip_address\n",
       "count            1.388460e+05            1.388460e+05\n",
       "mean            -1.214785e+09            2.724557e+09\n",
       "std              1.563396e+09            8.974979e+08\n",
       "min             -2.147484e+09            1.677747e+07\n",
       "25%             -2.147484e+09            1.920008e+09\n",
       "50%             -2.147484e+09            3.230888e+09\n",
       "75%              5.228780e+08            3.350466e+09\n",
       "max              2.113929e+09            3.758096e+09"
      ]
     },
     "execution_count": 18,
     "metadata": {},
     "output_type": "execute_result"
    }
   ],
   "source": [
    "ISP_df.describe()"
   ]
  },
  {
   "cell_type": "markdown",
   "metadata": {},
   "source": [
    "The min of the lower and upper bounds is separated by 25 which seems reasonable to me. However, the max of both the lower and upper bounds are equal which definitely seems strange. Is there a single instance where the lower and upper bounds are equal?"
   ]
  },
  {
   "cell_type": "code",
   "execution_count": 12,
   "metadata": {},
   "outputs": [
    {
     "data": {
      "text/html": [
       "<div>\n",
       "<table border=\"1\" class=\"dataframe\">\n",
       "  <thead>\n",
       "    <tr style=\"text-align: right;\">\n",
       "      <th></th>\n",
       "      <th>lower_bound_ip_address</th>\n",
       "      <th>upper_bound_ip_address</th>\n",
       "      <th>country</th>\n",
       "    </tr>\n",
       "  </thead>\n",
       "  <tbody>\n",
       "    <tr>\n",
       "      <th>138845</th>\n",
       "      <td>3758096128</td>\n",
       "      <td>3758096383</td>\n",
       "      <td>Australia</td>\n",
       "    </tr>\n",
       "  </tbody>\n",
       "</table>\n",
       "</div>"
      ],
      "text/plain": [
       "        lower_bound_ip_address  upper_bound_ip_address    country\n",
       "138845              3758096128              3758096383  Australia"
      ]
     },
     "metadata": {},
     "output_type": "display_data"
    },
    {
     "data": {
      "text/html": [
       "<div>\n",
       "<table border=\"1\" class=\"dataframe\">\n",
       "  <thead>\n",
       "    <tr style=\"text-align: right;\">\n",
       "      <th></th>\n",
       "      <th>lower_bound_ip_address</th>\n",
       "      <th>upper_bound_ip_address</th>\n",
       "      <th>country</th>\n",
       "    </tr>\n",
       "  </thead>\n",
       "  <tbody>\n",
       "    <tr>\n",
       "      <th>138845</th>\n",
       "      <td>3758096128</td>\n",
       "      <td>3758096383</td>\n",
       "      <td>Australia</td>\n",
       "    </tr>\n",
       "  </tbody>\n",
       "</table>\n",
       "</div>"
      ],
      "text/plain": [
       "        lower_bound_ip_address  upper_bound_ip_address    country\n",
       "138845              3758096128              3758096383  Australia"
      ]
     },
     "metadata": {},
     "output_type": "display_data"
    }
   ],
   "source": [
    "display(ISP_df[ ISP_df.lower_bound_ip_address == ISP_df.lower_bound_ip_address.max() ])\n",
    "display(ISP_df[ ISP_df.upper_bound_ip_address == ISP_df.upper_bound_ip_address.max() ])"
   ]
  },
  {
   "cell_type": "markdown",
   "metadata": {},
   "source": [
    "Ok, it was just a false alarm. The trailing decimals not shown in the describe output differ from one another so everything seems to be fine."
   ]
  },
  {
   "cell_type": "markdown",
   "metadata": {},
   "source": [
    "## Missing IP addresses\n",
    "\n",
    "Comparing the descriptive stats of each dataset, I noticed that the min (max) IP address in the fraud dataset is lower (higher) than the min (max) IP address in the ISP dataset. This will definitely create problems when creating a map. It's also possible that some IP addresses in the fraud dataset aren't in the ISP dataset even if they do lie within the min and max of the ISP dataset. It would be helpful to know the counts associated with each of these errors and also to know how many IP addresses do have a unique country assigned to them."
   ]
  },
  {
   "cell_type": "code",
   "execution_count": null,
   "metadata": {},
   "outputs": [],
   "source": [
    "def isp_counts(isp):\n",
    "    country = ISP_df[(ISP_df.lower_bound_ip_address <= isp) & (ISP_df.upper_bound_ip_address >= isp)].country\n",
    "    if country.shape[0] == 1:\n",
    "        return \"Unique\"\n",
    "    elif country.shape[0] > 1:\n",
    "        return \"Multiple countries\"\n",
    "    elif country.shape[0] == 0:\n",
    "        if isp > ISP_df.upper_bound_ip_address.max():\n",
    "            return \"Too big\"\n",
    "        elif isp < ISP_df.lower_bound_ip_address.min():\n",
    "            return \"Too small\"\n",
    "        else:\n",
    "            return \"Missing from the middle\"\n",
    "        \n",
    "ip_counts = fraud_df.ip_address.apply(isp_counts)\n",
    "ip_counts.value_counts()"
   ]
  },
  {
   "cell_type": "markdown",
   "metadata": {},
   "source": [
    "Although the majority of IP addresses are uniquely identifying, there are many that are missing for various reasons. The missing values constitute 17% of the IP address data.    \n",
    "\n",
    "Although it's possible to just discard rows with missing countries of origin, it's possible that these missing ip addresses correspond to fake addresses generated specifically to create fraud. If that's true, then we should expect an associated correlation to be present. For this reason, I'll keep these rows and label their country of origin as \"Missing\"."
   ]
  },
  {
   "cell_type": "code",
   "execution_count": null,
   "metadata": {},
   "outputs": [],
   "source": [
    "def ip_to_country(ip):\n",
    "    tmp_ser = ISP_df[ (ISP_df.lower_bound_ip_address <= ip) \n",
    "                    & (ISP_df.upper_bound_ip_address >= ip) ].country\n",
    "    if tmp_ser.shape[0] == 1:\n",
    "        return tmp_ser.iloc[0]\n",
    "    elif tmp_ser.shape[0] < 1:\n",
    "        return \"Missing\"\n",
    "    elif tmp_ser.shape[0] > 1:\n",
    "        return \"Error\"\n",
    "    \n",
    "fraud_df[\"country\"] = fraud_df.ip_address.apply(ip_to_country)"
   ]
  },
  {
   "cell_type": "markdown",
   "metadata": {},
   "source": [
    "This completes the first task of the challenge. The raw fraud dataset now has all desired columns."
   ]
  },
  {
   "cell_type": "code",
   "execution_count": 15,
   "metadata": {},
   "outputs": [
    {
     "data": {
      "text/html": [
       "<div>\n",
       "<table border=\"1\" class=\"dataframe\">\n",
       "  <thead>\n",
       "    <tr style=\"text-align: right;\">\n",
       "      <th></th>\n",
       "      <th>user_id</th>\n",
       "      <th>signup_time</th>\n",
       "      <th>purchase_time</th>\n",
       "      <th>purchase_value</th>\n",
       "      <th>device_id</th>\n",
       "      <th>source</th>\n",
       "      <th>browser</th>\n",
       "      <th>sex</th>\n",
       "      <th>age</th>\n",
       "      <th>ip_address</th>\n",
       "      <th>class</th>\n",
       "      <th>country</th>\n",
       "    </tr>\n",
       "  </thead>\n",
       "  <tbody>\n",
       "    <tr>\n",
       "      <th>0</th>\n",
       "      <td>22058</td>\n",
       "      <td>2015-02-24 22:55:49</td>\n",
       "      <td>2015-04-18 02:47:11</td>\n",
       "      <td>34</td>\n",
       "      <td>QVPSPJUOCKZAR</td>\n",
       "      <td>SEO</td>\n",
       "      <td>Chrome</td>\n",
       "      <td>M</td>\n",
       "      <td>39</td>\n",
       "      <td>7.327584e+08</td>\n",
       "      <td>0</td>\n",
       "      <td>Japan</td>\n",
       "    </tr>\n",
       "    <tr>\n",
       "      <th>1</th>\n",
       "      <td>333320</td>\n",
       "      <td>2015-06-07 20:39:50</td>\n",
       "      <td>2015-06-08 01:38:54</td>\n",
       "      <td>16</td>\n",
       "      <td>EOGFQPIZPYXFZ</td>\n",
       "      <td>Ads</td>\n",
       "      <td>Chrome</td>\n",
       "      <td>F</td>\n",
       "      <td>53</td>\n",
       "      <td>3.503114e+08</td>\n",
       "      <td>0</td>\n",
       "      <td>United States</td>\n",
       "    </tr>\n",
       "    <tr>\n",
       "      <th>2</th>\n",
       "      <td>1359</td>\n",
       "      <td>2015-01-01 18:52:44</td>\n",
       "      <td>2015-01-01 18:52:45</td>\n",
       "      <td>15</td>\n",
       "      <td>YSSKYOSJHPPLJ</td>\n",
       "      <td>SEO</td>\n",
       "      <td>Opera</td>\n",
       "      <td>M</td>\n",
       "      <td>53</td>\n",
       "      <td>2.621474e+09</td>\n",
       "      <td>1</td>\n",
       "      <td>United States</td>\n",
       "    </tr>\n",
       "    <tr>\n",
       "      <th>3</th>\n",
       "      <td>150084</td>\n",
       "      <td>2015-04-28 21:13:25</td>\n",
       "      <td>2015-05-04 13:54:50</td>\n",
       "      <td>44</td>\n",
       "      <td>ATGTXKYKUDUQN</td>\n",
       "      <td>SEO</td>\n",
       "      <td>Safari</td>\n",
       "      <td>M</td>\n",
       "      <td>41</td>\n",
       "      <td>3.840542e+09</td>\n",
       "      <td>0</td>\n",
       "      <td>Missing</td>\n",
       "    </tr>\n",
       "    <tr>\n",
       "      <th>4</th>\n",
       "      <td>221365</td>\n",
       "      <td>2015-07-21 07:09:52</td>\n",
       "      <td>2015-09-09 18:40:53</td>\n",
       "      <td>39</td>\n",
       "      <td>NAUITBZFJKHWW</td>\n",
       "      <td>Ads</td>\n",
       "      <td>Safari</td>\n",
       "      <td>M</td>\n",
       "      <td>45</td>\n",
       "      <td>4.155831e+08</td>\n",
       "      <td>0</td>\n",
       "      <td>United States</td>\n",
       "    </tr>\n",
       "  </tbody>\n",
       "</table>\n",
       "</div>"
      ],
      "text/plain": [
       "   user_id          signup_time        purchase_time  purchase_value  \\\n",
       "0    22058  2015-02-24 22:55:49  2015-04-18 02:47:11              34   \n",
       "1   333320  2015-06-07 20:39:50  2015-06-08 01:38:54              16   \n",
       "2     1359  2015-01-01 18:52:44  2015-01-01 18:52:45              15   \n",
       "3   150084  2015-04-28 21:13:25  2015-05-04 13:54:50              44   \n",
       "4   221365  2015-07-21 07:09:52  2015-09-09 18:40:53              39   \n",
       "\n",
       "       device_id source browser sex  age    ip_address  class        country  \n",
       "0  QVPSPJUOCKZAR    SEO  Chrome   M   39  7.327584e+08      0          Japan  \n",
       "1  EOGFQPIZPYXFZ    Ads  Chrome   F   53  3.503114e+08      0  United States  \n",
       "2  YSSKYOSJHPPLJ    SEO   Opera   M   53  2.621474e+09      1  United States  \n",
       "3  ATGTXKYKUDUQN    SEO  Safari   M   41  3.840542e+09      0        Missing  \n",
       "4  NAUITBZFJKHWW    Ads  Safari   M   45  4.155831e+08      0  United States  "
      ]
     },
     "execution_count": 15,
     "metadata": {},
     "output_type": "execute_result"
    }
   ],
   "source": [
    "fraud_df.head()"
   ]
  },
  {
   "cell_type": "markdown",
   "metadata": {},
   "source": [
    "Before going forward, I'll save this version of the fraud dataset for quicker load times."
   ]
  },
  {
   "cell_type": "code",
   "execution_count": 16,
   "metadata": {
    "collapsed": true
   },
   "outputs": [],
   "source": [
    "fraud_df.to_csv(\"Fraud_Data/Fraud_Data_with_Countries.csv\", index=False)"
   ]
  },
  {
   "cell_type": "code",
   "execution_count": 20,
   "metadata": {},
   "outputs": [],
   "source": [
    "fraud_df=pd.read_csv(\"Fraud_Data/Fraud_Data_with_Countries.csv\")"
   ]
  },
  {
   "cell_type": "markdown",
   "metadata": {},
   "source": [
    "# Basic visualizations\n",
    "Here I display some basic visualizations to aid in understanding the dataset. First, I'll explore the correlation between sex and class. Males make up more of the customer base of the company and thus are also involved in more of the fraud cases. It doesn't look like one gender is more likely to participate in fraud though, just that one gender tends to use the site more in general."
   ]
  },
  {
   "cell_type": "code",
   "execution_count": 22,
   "metadata": {},
   "outputs": [
    {
     "data": {
      "image/png": "[encoded data removed]",
      "text/plain": [
       "<Figure size 432x288 with 1 Axes>"
      ]
     },
     "metadata": {
      "needs_background": "light"
     },
     "output_type": "display_data"
    }
   ],
   "source": [
    "sns.countplot(x='sex', hue='class', data=fraud_df)\n",
    "plt.xlabel(\"Gender\", fontsize=15)\n",
    "plt.ylabel(\"Counts\", fontsize=15)\n",
    "plt.show()"
   ]
  },
  {
   "cell_type": "markdown",
   "metadata": {},
   "source": [
    "Next, I explore the relationship between purchase value and fraud. Although there is a slight increase in the average purchase value associated with fraudulent activity, the errors bars are far too high to spot a real trend."
   ]
  },
  {
   "cell_type": "code",
   "execution_count": 23,
   "metadata": {},
   "outputs": [
    {
     "name": "stderr",
     "output_type": "stream",
     "text": [
      "C:\\Users\\hp\\Anaconda3\\lib\\site-packages\\seaborn\\categorical.py:3666: UserWarning: The `factorplot` function has been renamed to `catplot`. The original name will be removed in a future release. Please update your code. Note that the default `kind` in `factorplot` (`'point'`) has changed `'strip'` in `catplot`.\n",
      "  warnings.warn(msg)\n"
     ]
    },
    {
     "data": {
      "text/plain": [
       "Text(0.42499999999999716, 0.5, 'Purchase Value')"
      ]
     },
     "execution_count": 23,
     "metadata": {},
     "output_type": "execute_result"
    },
    {
     "data": {
      "image/png": "[encoded data removed]",
      "text/plain": [
       "<Figure size 360x360 with 1 Axes>"
      ]
     },
     "metadata": {
      "needs_background": "light"
     },
     "output_type": "display_data"
    }
   ],
   "source": [
    "sns.factorplot(x=\"class\", y=\"purchase_value\", data=fraud_df)\n",
    "plt.xlabel(\"Fraud (1) / No fraud (0)\", fontsize=15)\n",
    "plt.ylabel(\"Purchase Value\", fontsize=15)"
   ]
  },
  {
   "cell_type": "markdown",
   "metadata": {},
   "source": [
    "Next, I explore the relationship between age and fraud. At first glance, it looks like there may be a useful trend here but the ages are actually very close together and are essentially both right on top of the average and median user age. Again, this is not likely to be terribly useful."
   ]
  },
  {
   "cell_type": "code",
   "execution_count": 19,
   "metadata": {},
   "outputs": [
    {
     "data": {
      "text/plain": [
       "<matplotlib.text.Text at 0x10b6fa510>"
      ]
     },
     "execution_count": 19,
     "metadata": {},
     "output_type": "execute_result"
    },
    {
     "data": {
      "image/png": "[encoded data removed]",
      "text/plain": [
       "<matplotlib.figure.Figure at 0x10ed7fd50>"
      ]
     },
     "metadata": {},
     "output_type": "display_data"
    }
   ],
   "source": [
    "sns.factorplot(x=\"class\", y=\"age\", data=fraud_df)\n",
    "plt.xlabel(\"Fraud (1) / No fraud (0)\", fontsize=15)\n",
    "plt.ylabel(\"Age\", fontsize=15)"
   ]
  },
  {
   "cell_type": "markdown",
   "metadata": {},
   "source": [
    "Next, I explore the relationship between marketing source and fraud. It doesn't look like any given marketing source is more associated with fraud either. Although there are less direct sources associated with fraud, there are less direct sources overall and so the decrease likely has more to do with just not being as successful as search engine optimization and ads in bringing customers to the site."
   ]
  },
  {
   "cell_type": "code",
   "execution_count": 20,
   "metadata": {},
   "outputs": [
    {
     "data": {
      "text/plain": [
       "<matplotlib.text.Text at 0x10b6eef10>"
      ]
     },
     "execution_count": 20,
     "metadata": {},
     "output_type": "execute_result"
    },
    {
     "data": {
      "image/png": "[encoded data removed]",
      "text/plain": [
       "<matplotlib.figure.Figure at 0x10b711350>"
      ]
     },
     "metadata": {},
     "output_type": "display_data"
    }
   ],
   "source": [
    "sns.countplot(x='source', hue='class', data=fraud_df)\n",
    "plt.xlabel(\"Marketing Source\", fontsize=15)\n",
    "plt.ylabel(\"Counts\", fontsize=15)"
   ]
  },
  {
   "cell_type": "markdown",
   "metadata": {},
   "source": [
    "Next, I explore the relationship between browser used and fraud. Again, the browser counts seem to be more indicative of their relative overall popularity rather than any meaningful trend associated with fraud."
   ]
  },
  {
   "cell_type": "code",
   "execution_count": 21,
   "metadata": {},
   "outputs": [
    {
     "data": {
      "text/plain": [
       "<matplotlib.text.Text at 0x1147a4d50>"
      ]
     },
     "execution_count": 21,
     "metadata": {},
     "output_type": "execute_result"
    },
    {
     "data": {
      "image/png": "[encoded data removed]",
      "text/plain": [
       "<matplotlib.figure.Figure at 0x115ecbe50>"
      ]
     },
     "metadata": {},
     "output_type": "display_data"
    }
   ],
   "source": [
    "sns.countplot(x='browser', hue='class', data=fraud_df)\n",
    "plt.xlabel(\"Web Browser\", fontsize=15)\n",
    "plt.ylabel(\"Counts\", fontsize=15)"
   ]
  },
  {
   "cell_type": "markdown",
   "metadata": {},
   "source": [
    "Next, I explore the relationship between country of origin and fraud. It's impossible to represent 250+ countries in a visually nice way so I'll resort, in this case, to doing it in an ugly way. Below, I display a pie chart showing the share of anomalous instances each country is responsible for. For the most part, the chart seems to represent more the relative share of total world-wide active internet users in each country and not necessarily those associated with fraud. For instance, I certainly wouldn't flag every US-based user as a potential fraudster. \n",
    "\n",
    "However, the \"Missing\" designation does seem to also occupy quite a lot of the pie chart. Because of this, it may be useful to further examine the effect of country of origin using feature selection."
   ]
  },
  {
   "cell_type": "code",
   "execution_count": 22,
   "metadata": {},
   "outputs": [
    {
     "data": {
      "image/png": "[encoded data removed]",
      "text/plain": [
       "<matplotlib.figure.Figure at 0x1141a8e10>"
      ]
     },
     "metadata": {},
     "output_type": "display_data"
    }
   ],
   "source": [
    "sums = fraud_df[fraud_df[\"class\"] == 1][\"class\"].groupby(fraud_df.country).sum()\n",
    "plt.axis('equal')\n",
    "plt.pie(sums, labels=sums.index)\n",
    "plt.show()"
   ]
  },
  {
   "cell_type": "code",
   "execution_count": 44,
   "metadata": {},
   "outputs": [
    {
     "data": {
      "image/png": "[encoded data removed]",
      "text/plain": [
       "<Figure size 432x288 with 1 Axes>"
      ]
     },
     "metadata": {},
     "output_type": "display_data"
    }
   ],
   "source": [
    "sums = fraud_df[fraud_df[\"class\"] == 1][\"class\"].groupby(fraud_df.country).sum().sort_values(ascending=False).head(10)\n",
    "plt.axis('equal')\n",
    "plt.pie(sums, labels=sums.index)\n",
    "plt.show()\n"
   ]
  },
  {
   "cell_type": "markdown",
   "metadata": {},
   "source": [
    "Next, I explore the relationship between the number of unique user ids assocated with either a single device or a single ip address. These are clearly important correlations. It seems that multiple user ids associated with either a unique device id or ip address is a large indicator of fraudulent behaviour."
   ]
  },
  {
   "cell_type": "code",
   "execution_count": 46,
   "metadata": {},
   "outputs": [
    {
     "name": "stderr",
     "output_type": "stream",
     "text": [
      "C:\\Users\\hp\\Anaconda3\\lib\\site-packages\\seaborn\\categorical.py:3666: UserWarning: The `factorplot` function has been renamed to `catplot`. The original name will be removed in a future release. Please update your code. Note that the default `kind` in `factorplot` (`'point'`) has changed `'strip'` in `catplot`.\n",
      "  warnings.warn(msg)\n",
      "C:\\Users\\hp\\Anaconda3\\lib\\site-packages\\seaborn\\categorical.py:3666: UserWarning: The `factorplot` function has been renamed to `catplot`. The original name will be removed in a future release. Please update your code. Note that the default `kind` in `factorplot` (`'point'`) has changed `'strip'` in `catplot`.\n",
      "  warnings.warn(msg)\n"
     ]
    },
    {
     "data": {
      "image/png": "[encoded data removed]",
      "text/plain": [
       "<Figure size 360x360 with 1 Axes>"
      ]
     },
     "metadata": {
      "needs_background": "light"
     },
     "output_type": "display_data"
    },
    {
     "data": {
      "image/png": "[encoded data removed]",
      "text/plain": [
       "<Figure size 360x360 with 1 Axes>"
      ]
     },
     "metadata": {
      "needs_background": "light"
     },
     "output_type": "display_data"
    }
   ],
   "source": [
    "# Initialize a new dataframe\n",
    "tmp_df = pd.DataFrame(columns=(\"class\", \"userids_per_deviceid\", \"userids_per_ipaddress\"))\n",
    "tmp_df[\"class\"] = fraud_df[\"class\"]\n",
    "\n",
    "# Count the number of unique user ids associated each device\n",
    "userid_count = fraud_df.groupby(\"device_id\").user_id.count()\n",
    "tmp_df[\"userids_per_deviceid\"] = fraud_df.device_id.apply(lambda x: userid_count[x])\n",
    "\n",
    "# Count the number of unique user ids associated each ip address\n",
    "userid_count = fraud_df.groupby(\"ip_address\").user_id.count()\n",
    "tmp_df[\"userids_per_ipaddress\"] = fraud_df.ip_address.apply(lambda x: userid_count[x])\n",
    "\n",
    "sns.factorplot(x=\"class\", y=\"userids_per_deviceid\", data=tmp_df)\n",
    "plt.xlabel(\"Fraud (1) / No fraud (0)\", fontsize=15)\n",
    "plt.ylabel(\"User ids per Device\", fontsize=15)\n",
    "\n",
    "sns.factorplot(x=\"class\", y=\"userids_per_ipaddress\", data=tmp_df)\n",
    "plt.xlabel(\"Fraud (1) / No fraud (0)\", fontsize=15)\n",
    "plt.ylabel(\"User ids per IP Address\", fontsize=15)\n",
    "plt.show()"
   ]
  },
  {
   "cell_type": "markdown",
   "metadata": {},
   "source": [
    "Finally, I explore the relationship between the time between sign-up and purchase and fraud. These are also very clearly important correlations. Extremely small time periods between sign-up and purchase are also strongly correlated with fraud."
   ]
  },
  {
   "cell_type": "code",
   "execution_count": 24,
   "metadata": {},
   "outputs": [
    {
     "data": {
      "text/plain": [
       "<matplotlib.text.Text at 0x11736b190>"
      ]
     },
     "execution_count": 24,
     "metadata": {},
     "output_type": "execute_result"
    },
    {
     "data": {
      "image/png": "[encoded data removed]",
      "text/plain": [
       "<matplotlib.figure.Figure at 0x1158b4c10>"
      ]
     },
     "metadata": {},
     "output_type": "display_data"
    }
   ],
   "source": [
    "# Convert sign-up time and purchase time to datetime objects\n",
    "tmp_df[\"signup_time\"] = fraud_df.signup_time.apply(pd.to_datetime)\n",
    "tmp_df[\"purchase_time\"] = fraud_df.purchase_time.apply(pd.to_datetime)\n",
    "\n",
    "# Add columns for the number of seconds between purchase and sign-up times\n",
    "tmp_df[\"signup_to_purchase_seconds\"] = (tmp_df.purchase_time - tmp_df.signup_time).apply(lambda x: x.seconds)\n",
    "\n",
    "sns.factorplot(x=\"class\", y=\"signup_to_purchase_seconds\", data=tmp_df)\n",
    "plt.xlabel(\"Fraud (1) / No fraud (0)\", fontsize=15)\n",
    "plt.ylabel(\"Sign-up to Purchase Time (Seconds)\", fontsize=15)"
   ]
  },
  {
   "cell_type": "markdown",
   "metadata": {},
   "source": [
    "Next, I explore the relationship between time (hour of the day, day of the week, week of the year) and fraud. It looks like fraud occurs pretty regularly throughout the hours of the day and days of the week. However, it looks like a big burst of fraud occurs within the first three weeks of the year. \n",
    "\n",
    "I'm not sure why this is. However, I'm not sure it would be a useful feature to have in the dataset as many normal customers also visit the site during that period. I think it's more appropriate to simply strongly recommend that the company security team is on high alert for fraud during the first three weeks of the year."
   ]
  },
  {
   "cell_type": "code",
   "execution_count": 25,
   "metadata": {},
   "outputs": [
    {
     "data": {
      "text/plain": [
       "<matplotlib.text.Text at 0x11780a910>"
      ]
     },
     "execution_count": 25,
     "metadata": {},
     "output_type": "execute_result"
    },
    {
     "data": {
      "image/png": "[encoded data removed]",
      "text/plain": [
       "<matplotlib.figure.Figure at 0x1158893d0>"
      ]
     },
     "metadata": {},
     "output_type": "display_data"
    }
   ],
   "source": [
    "tmp_df[tmp_df[\"class\"] == 1].signup_time.apply(lambda x: x.hour).hist()\n",
    "plt.xlabel(\"Hour of Day\", fontsize=15)\n",
    "plt.ylabel(\"Count\", fontsize=15)"
   ]
  },
  {
   "cell_type": "code",
   "execution_count": 26,
   "metadata": {},
   "outputs": [
    {
     "data": {
      "text/plain": [
       "<matplotlib.text.Text at 0x116543450>"
      ]
     },
     "execution_count": 26,
     "metadata": {},
     "output_type": "execute_result"
    },
    {
     "data": {
      "image/png": "[encoded data removed]",
      "text/plain": [
       "<matplotlib.figure.Figure at 0x1148ff6d0>"
      ]
     },
     "metadata": {},
     "output_type": "display_data"
    }
   ],
   "source": [
    "tmp_df[tmp_df[\"class\"] == 1].signup_time.apply(lambda x: x.dayofweek).hist()\n",
    "plt.xlabel(\"Day of Week\", fontsize=15)\n",
    "plt.ylabel(\"Count\", fontsize=15)"
   ]
  },
  {
   "cell_type": "code",
   "execution_count": 27,
   "metadata": {},
   "outputs": [
    {
     "data": {
      "text/plain": [
       "<matplotlib.text.Text at 0x114611a50>"
      ]
     },
     "execution_count": 27,
     "metadata": {},
     "output_type": "execute_result"
    },
    {
     "data": {
      "image/png": "[encoded data removed]",
      "text/plain": [
       "<matplotlib.figure.Figure at 0x115889b50>"
      ]
     },
     "metadata": {},
     "output_type": "display_data"
    }
   ],
   "source": [
    "tmp_df[tmp_df[\"class\"] == 1].signup_time.apply(lambda x: x.week).hist()\n",
    "plt.xlabel(\"Week of the Year\", fontsize=15)\n",
    "plt.ylabel(\"Count\", fontsize=15)"
   ]
  },
  {
   "cell_type": "markdown",
   "metadata": {},
   "source": [
    "In the next section, I construct the features based on country of origin, number of user ids associated with unique device ids and ip addresses, and time periods between sign-up and purchase."
   ]
  },
  {
   "cell_type": "markdown",
   "metadata": {},
   "source": [
    "## Feature engineering   \n",
    "Here, I'll list all the new features that I'll add in this section.\n",
    "* Multiple user ids for a unique device or ip address\n",
    "    * Both are equally good indicators. \n",
    "    * They're highly correlated. In order to avoid any multi-colinearity, I'll generate only one feature which will be the average of the number of user ids associated with either the device id or the ip address.\n",
    "* Time between sign-up and first purchase in seconds\n",
    "* One-hot-encoded features for each country"
   ]
  },
  {
   "cell_type": "code",
   "execution_count": 47,
   "metadata": {},
   "outputs": [],
   "source": [
    "# First reload the dataset\n",
    "fraud_df = pd.read_csv(\"Fraud_Data/Fraud_Data_with_Countries.csv\", header=0)\n",
    "\n",
    "# Add column corresponding to the number of unique user id's associated with the given device id\n",
    "userid_count = fraud_df.groupby(\"device_id\").user_id.count()\n",
    "fraud_df[\"userids_per_deviceid\"] = fraud_df.device_id.apply(lambda x: userid_count[x])\n",
    "\n",
    "# Add column corresponding to the number of unique user id's associated with the given ip address\n",
    "userid_count = fraud_df.groupby(\"ip_address\").user_id.count()\n",
    "fraud_df[\"userids_per_ipaddress\"] = fraud_df.ip_address.apply(lambda x: userid_count[x])\n",
    "\n",
    "# Add column for the average of the previous two columns\n",
    "fraud_df[\"mean_number_of_userids\"] = (fraud_df.userids_per_deviceid + fraud_df.userids_per_ipaddress) * 0.5\n",
    "\n",
    "# Convert sign-up time and purchase time to datetime objects\n",
    "fraud_df.signup_time = fraud_df.signup_time.apply(pd.to_datetime)\n",
    "fraud_df.purchase_time = fraud_df.purchase_time.apply(pd.to_datetime)\n",
    "\n",
    "# Add columns for the number of seconds and days between purchase and sign-up times\n",
    "fraud_df[\"signup_to_purchase_seconds\"] = (fraud_df.purchase_time - fraud_df.signup_time).apply(lambda x: x.seconds)\n",
    "\n",
    "# Create dummy columns for country feature\n",
    "country_dummies = pd.get_dummies(fraud_df.country, prefix='country')\n",
    "fraud_df = pd.concat([fraud_df, country_dummies], axis=1)\n",
    "\n",
    "# Drop spurious columns\n",
    "fraud_df.drop([\"user_id\", \n",
    "               \"signup_time\", \n",
    "               \"purchase_time\", \n",
    "               \"device_id\", \n",
    "               \"ip_address\", \n",
    "               \"userids_per_deviceid\",\n",
    "               \"userids_per_ipaddress\",\n",
    "               \"country\",\n",
    "               \"source\",\n",
    "               \"browser\",\n",
    "               \"sex\",\n",
    "               \"age\",\n",
    "               \"purchase_value\"\n",
    "               ], axis=1, inplace=True)"
   ]
  },
  {
   "cell_type": "code",
   "execution_count": 49,
   "metadata": {},
   "outputs": [
    {
     "data": {
      "text/html": [
       "<div>\n",
       "<style scoped>\n",
       "    .dataframe tbody tr th:only-of-type {\n",
       "        vertical-align: middle;\n",
       "    }\n",
       "\n",
       "    .dataframe tbody tr th {\n",
       "        vertical-align: top;\n",
       "    }\n",
       "\n",
       "    .dataframe thead th {\n",
       "        text-align: right;\n",
       "    }\n",
       "</style>\n",
       "<table border=\"1\" class=\"dataframe\">\n",
       "  <thead>\n",
       "    <tr style=\"text-align: right;\">\n",
       "      <th></th>\n",
       "      <th>user_id</th>\n",
       "      <th>signup_time</th>\n",
       "      <th>purchase_time</th>\n",
       "      <th>purchase_value</th>\n",
       "      <th>device_id</th>\n",
       "      <th>source</th>\n",
       "      <th>browser</th>\n",
       "      <th>sex</th>\n",
       "      <th>age</th>\n",
       "      <th>ip_address</th>\n",
       "      <th>class</th>\n",
       "      <th>country</th>\n",
       "    </tr>\n",
       "  </thead>\n",
       "  <tbody>\n",
       "    <tr>\n",
       "      <th>0</th>\n",
       "      <td>22058</td>\n",
       "      <td>2015-02-24 22:55:49</td>\n",
       "      <td>2015-04-18 02:47:11</td>\n",
       "      <td>34</td>\n",
       "      <td>QVPSPJUOCKZAR</td>\n",
       "      <td>SEO</td>\n",
       "      <td>Chrome</td>\n",
       "      <td>M</td>\n",
       "      <td>39</td>\n",
       "      <td>7.327584e+08</td>\n",
       "      <td>0</td>\n",
       "      <td>Japan</td>\n",
       "    </tr>\n",
       "    <tr>\n",
       "      <th>1</th>\n",
       "      <td>333320</td>\n",
       "      <td>2015-06-07 20:39:50</td>\n",
       "      <td>2015-06-08 01:38:54</td>\n",
       "      <td>16</td>\n",
       "      <td>EOGFQPIZPYXFZ</td>\n",
       "      <td>Ads</td>\n",
       "      <td>Chrome</td>\n",
       "      <td>F</td>\n",
       "      <td>53</td>\n",
       "      <td>3.503114e+08</td>\n",
       "      <td>0</td>\n",
       "      <td>United States</td>\n",
       "    </tr>\n",
       "    <tr>\n",
       "      <th>2</th>\n",
       "      <td>1359</td>\n",
       "      <td>2015-01-01 18:52:44</td>\n",
       "      <td>2015-01-01 18:52:45</td>\n",
       "      <td>15</td>\n",
       "      <td>YSSKYOSJHPPLJ</td>\n",
       "      <td>SEO</td>\n",
       "      <td>Opera</td>\n",
       "      <td>M</td>\n",
       "      <td>53</td>\n",
       "      <td>2.621474e+09</td>\n",
       "      <td>1</td>\n",
       "      <td>United States</td>\n",
       "    </tr>\n",
       "    <tr>\n",
       "      <th>3</th>\n",
       "      <td>150084</td>\n",
       "      <td>2015-04-28 21:13:25</td>\n",
       "      <td>2015-05-04 13:54:50</td>\n",
       "      <td>44</td>\n",
       "      <td>ATGTXKYKUDUQN</td>\n",
       "      <td>SEO</td>\n",
       "      <td>Safari</td>\n",
       "      <td>M</td>\n",
       "      <td>41</td>\n",
       "      <td>3.840542e+09</td>\n",
       "      <td>0</td>\n",
       "      <td>Missing</td>\n",
       "    </tr>\n",
       "    <tr>\n",
       "      <th>4</th>\n",
       "      <td>221365</td>\n",
       "      <td>2015-07-21 07:09:52</td>\n",
       "      <td>2015-09-09 18:40:53</td>\n",
       "      <td>39</td>\n",
       "      <td>NAUITBZFJKHWW</td>\n",
       "      <td>Ads</td>\n",
       "      <td>Safari</td>\n",
       "      <td>M</td>\n",
       "      <td>45</td>\n",
       "      <td>4.155831e+08</td>\n",
       "      <td>0</td>\n",
       "      <td>United States</td>\n",
       "    </tr>\n",
       "  </tbody>\n",
       "</table>\n",
       "</div>"
      ],
      "text/plain": [
       "   user_id          signup_time        purchase_time  purchase_value  \\\n",
       "0    22058  2015-02-24 22:55:49  2015-04-18 02:47:11              34   \n",
       "1   333320  2015-06-07 20:39:50  2015-06-08 01:38:54              16   \n",
       "2     1359  2015-01-01 18:52:44  2015-01-01 18:52:45              15   \n",
       "3   150084  2015-04-28 21:13:25  2015-05-04 13:54:50              44   \n",
       "4   221365  2015-07-21 07:09:52  2015-09-09 18:40:53              39   \n",
       "\n",
       "       device_id source browser sex  age    ip_address  class        country  \n",
       "0  QVPSPJUOCKZAR    SEO  Chrome   M   39  7.327584e+08      0          Japan  \n",
       "1  EOGFQPIZPYXFZ    Ads  Chrome   F   53  3.503114e+08      0  United States  \n",
       "2  YSSKYOSJHPPLJ    SEO   Opera   M   53  2.621474e+09      1  United States  \n",
       "3  ATGTXKYKUDUQN    SEO  Safari   M   41  3.840542e+09      0        Missing  \n",
       "4  NAUITBZFJKHWW    Ads  Safari   M   45  4.155831e+08      0  United States  "
      ]
     },
     "execution_count": 49,
     "metadata": {},
     "output_type": "execute_result"
    }
   ],
   "source": [
    "fraud=pd.read_csv(\"Fraud_Data/Fraud_Data_with_Countries.csv\")\n",
    "fraud.head()"
   ]
  },
  {
   "cell_type": "code",
   "execution_count": 48,
   "metadata": {},
   "outputs": [
    {
     "data": {
      "text/html": [
       "<div>\n",
       "<style scoped>\n",
       "    .dataframe tbody tr th:only-of-type {\n",
       "        vertical-align: middle;\n",
       "    }\n",
       "\n",
       "    .dataframe tbody tr th {\n",
       "        vertical-align: top;\n",
       "    }\n",
       "\n",
       "    .dataframe thead th {\n",
       "        text-align: right;\n",
       "    }\n",
       "</style>\n",
       "<table border=\"1\" class=\"dataframe\">\n",
       "  <thead>\n",
       "    <tr style=\"text-align: right;\">\n",
       "      <th></th>\n",
       "      <th>class</th>\n",
       "      <th>mean_number_of_userids</th>\n",
       "      <th>signup_to_purchase_seconds</th>\n",
       "      <th>country_Afghanistan</th>\n",
       "      <th>country_Albania</th>\n",
       "      <th>country_Algeria</th>\n",
       "      <th>country_Angola</th>\n",
       "      <th>country_Antigua and Barbuda</th>\n",
       "      <th>country_Argentina</th>\n",
       "      <th>country_Armenia</th>\n",
       "      <th>...</th>\n",
       "      <th>country_United States</th>\n",
       "      <th>country_Uruguay</th>\n",
       "      <th>country_Uzbekistan</th>\n",
       "      <th>country_Vanuatu</th>\n",
       "      <th>country_Venezuela</th>\n",
       "      <th>country_Viet Nam</th>\n",
       "      <th>country_Virgin Islands (U.S.)</th>\n",
       "      <th>country_Yemen</th>\n",
       "      <th>country_Zambia</th>\n",
       "      <th>country_Zimbabwe</th>\n",
       "    </tr>\n",
       "  </thead>\n",
       "  <tbody>\n",
       "    <tr>\n",
       "      <th>0</th>\n",
       "      <td>0</td>\n",
       "      <td>1.0</td>\n",
       "      <td>13882</td>\n",
       "      <td>0</td>\n",
       "      <td>0</td>\n",
       "      <td>0</td>\n",
       "      <td>0</td>\n",
       "      <td>0</td>\n",
       "      <td>0</td>\n",
       "      <td>0</td>\n",
       "      <td>...</td>\n",
       "      <td>0</td>\n",
       "      <td>0</td>\n",
       "      <td>0</td>\n",
       "      <td>0</td>\n",
       "      <td>0</td>\n",
       "      <td>0</td>\n",
       "      <td>0</td>\n",
       "      <td>0</td>\n",
       "      <td>0</td>\n",
       "      <td>0</td>\n",
       "    </tr>\n",
       "    <tr>\n",
       "      <th>1</th>\n",
       "      <td>0</td>\n",
       "      <td>1.0</td>\n",
       "      <td>17944</td>\n",
       "      <td>0</td>\n",
       "      <td>0</td>\n",
       "      <td>0</td>\n",
       "      <td>0</td>\n",
       "      <td>0</td>\n",
       "      <td>0</td>\n",
       "      <td>0</td>\n",
       "      <td>...</td>\n",
       "      <td>1</td>\n",
       "      <td>0</td>\n",
       "      <td>0</td>\n",
       "      <td>0</td>\n",
       "      <td>0</td>\n",
       "      <td>0</td>\n",
       "      <td>0</td>\n",
       "      <td>0</td>\n",
       "      <td>0</td>\n",
       "      <td>0</td>\n",
       "    </tr>\n",
       "    <tr>\n",
       "      <th>2</th>\n",
       "      <td>1</td>\n",
       "      <td>12.0</td>\n",
       "      <td>1</td>\n",
       "      <td>0</td>\n",
       "      <td>0</td>\n",
       "      <td>0</td>\n",
       "      <td>0</td>\n",
       "      <td>0</td>\n",
       "      <td>0</td>\n",
       "      <td>0</td>\n",
       "      <td>...</td>\n",
       "      <td>1</td>\n",
       "      <td>0</td>\n",
       "      <td>0</td>\n",
       "      <td>0</td>\n",
       "      <td>0</td>\n",
       "      <td>0</td>\n",
       "      <td>0</td>\n",
       "      <td>0</td>\n",
       "      <td>0</td>\n",
       "      <td>0</td>\n",
       "    </tr>\n",
       "    <tr>\n",
       "      <th>3</th>\n",
       "      <td>0</td>\n",
       "      <td>1.0</td>\n",
       "      <td>60085</td>\n",
       "      <td>0</td>\n",
       "      <td>0</td>\n",
       "      <td>0</td>\n",
       "      <td>0</td>\n",
       "      <td>0</td>\n",
       "      <td>0</td>\n",
       "      <td>0</td>\n",
       "      <td>...</td>\n",
       "      <td>0</td>\n",
       "      <td>0</td>\n",
       "      <td>0</td>\n",
       "      <td>0</td>\n",
       "      <td>0</td>\n",
       "      <td>0</td>\n",
       "      <td>0</td>\n",
       "      <td>0</td>\n",
       "      <td>0</td>\n",
       "      <td>0</td>\n",
       "    </tr>\n",
       "    <tr>\n",
       "      <th>4</th>\n",
       "      <td>0</td>\n",
       "      <td>1.0</td>\n",
       "      <td>41461</td>\n",
       "      <td>0</td>\n",
       "      <td>0</td>\n",
       "      <td>0</td>\n",
       "      <td>0</td>\n",
       "      <td>0</td>\n",
       "      <td>0</td>\n",
       "      <td>0</td>\n",
       "      <td>...</td>\n",
       "      <td>1</td>\n",
       "      <td>0</td>\n",
       "      <td>0</td>\n",
       "      <td>0</td>\n",
       "      <td>0</td>\n",
       "      <td>0</td>\n",
       "      <td>0</td>\n",
       "      <td>0</td>\n",
       "      <td>0</td>\n",
       "      <td>0</td>\n",
       "    </tr>\n",
       "  </tbody>\n",
       "</table>\n",
       "<p>5 rows × 185 columns</p>\n",
       "</div>"
      ],
      "text/plain": [
       "   class  mean_number_of_userids  signup_to_purchase_seconds  \\\n",
       "0      0                     1.0                       13882   \n",
       "1      0                     1.0                       17944   \n",
       "2      1                    12.0                           1   \n",
       "3      0                     1.0                       60085   \n",
       "4      0                     1.0                       41461   \n",
       "\n",
       "   country_Afghanistan  country_Albania  country_Algeria  country_Angola  \\\n",
       "0                    0                0                0               0   \n",
       "1                    0                0                0               0   \n",
       "2                    0                0                0               0   \n",
       "3                    0                0                0               0   \n",
       "4                    0                0                0               0   \n",
       "\n",
       "   country_Antigua and Barbuda  country_Argentina  country_Armenia  ...  \\\n",
       "0                            0                  0                0  ...   \n",
       "1                            0                  0                0  ...   \n",
       "2                            0                  0                0  ...   \n",
       "3                            0                  0                0  ...   \n",
       "4                            0                  0                0  ...   \n",
       "\n",
       "   country_United States  country_Uruguay  country_Uzbekistan  \\\n",
       "0                      0                0                   0   \n",
       "1                      1                0                   0   \n",
       "2                      1                0                   0   \n",
       "3                      0                0                   0   \n",
       "4                      1                0                   0   \n",
       "\n",
       "   country_Vanuatu  country_Venezuela  country_Viet Nam  \\\n",
       "0                0                  0                 0   \n",
       "1                0                  0                 0   \n",
       "2                0                  0                 0   \n",
       "3                0                  0                 0   \n",
       "4                0                  0                 0   \n",
       "\n",
       "   country_Virgin Islands (U.S.)  country_Yemen  country_Zambia  \\\n",
       "0                              0              0               0   \n",
       "1                              0              0               0   \n",
       "2                              0              0               0   \n",
       "3                              0              0               0   \n",
       "4                              0              0               0   \n",
       "\n",
       "   country_Zimbabwe  \n",
       "0                 0  \n",
       "1                 0  \n",
       "2                 0  \n",
       "3                 0  \n",
       "4                 0  \n",
       "\n",
       "[5 rows x 185 columns]"
      ]
     },
     "execution_count": 48,
     "metadata": {},
     "output_type": "execute_result"
    }
   ],
   "source": [
    "fraud_df.head()"
   ]
  },
  {
   "cell_type": "markdown",
   "metadata": {},
   "source": [
    "At this point, I have 150+ features. In order to reduce this, I'll do feature selection but it's important to do feature selection on the actual features you'll be using. Since the anomaly detection algorithms I'll be using later benefit from having features that are more gaussian than not, I'll first transform the non-categorical features.   \n",
    "\n",
    "The first feature is the mean number of user ids. It is bi-modal, with a big spike around 1-1.5 and then a gaussian distribution centered around 12 with a standard deviation of roughly 3. Due to the bi-modal nature, there's nothing more I can do about making this more gaussian so I'll just keep it the way it is."
   ]
  },
  {
   "cell_type": "code",
   "execution_count": 29,
   "metadata": {},
   "outputs": [
    {
     "data": {
      "text/plain": [
       "<matplotlib.text.Text at 0x11f89ea10>"
      ]
     },
     "execution_count": 29,
     "metadata": {},
     "output_type": "execute_result"
    },
    {
     "data": {
      "image/png": "[encoded data removed]",
      "text/plain": [
       "<matplotlib.figure.Figure at 0x10edc04d0>"
      ]
     },
     "metadata": {},
     "output_type": "display_data"
    }
   ],
   "source": [
    "fraud_df[fraud_df[\"class\"]==1].mean_number_of_userids.hist(normed=True, bins=25)\n",
    "plt.xlabel(\"Mean Number of User IDs\", fontsize=15)\n",
    "plt.ylabel(\"Normalized Count\", fontsize=15)"
   ]
  },
  {
   "cell_type": "markdown",
   "metadata": {},
   "source": [
    "The signup_to_purchase_seconds feature is rather uniformly distributed."
   ]
  },
  {
   "cell_type": "code",
   "execution_count": 30,
   "metadata": {},
   "outputs": [
    {
     "data": {
      "text/plain": [
       "<matplotlib.text.Text at 0x11eabf350>"
      ]
     },
     "execution_count": 30,
     "metadata": {},
     "output_type": "execute_result"
    },
    {
     "data": {
      "image/png": "[encoded data removed]",
      "text/plain": [
       "<matplotlib.figure.Figure at 0x1224a7690>"
      ]
     },
     "metadata": {},
     "output_type": "display_data"
    }
   ],
   "source": [
    "fraud_df.signup_to_purchase_seconds.hist(normed=True, bins=25)\n",
    "plt.xlabel(\"Signup to Purchase time (seconds)\", fontsize=15)\n",
    "plt.ylabel(\"Normalized Count\", fontsize=15)"
   ]
  },
  {
   "cell_type": "markdown",
   "metadata": {},
   "source": [
    "In this case, we can use the following transformation\n",
    "$$ X = \\sqrt{2} \\; \\text{erf}^{-1} \\left( 2 \\Phi - 1 \\right) $$\n",
    "where $\\Phi$ is a uniformly distributed random variable, $X$ is a normally distributed random variable, and $\\text{erf}^{-1}$ is the inverse of the error function. However, before this transformation can be done I need to first normalize the feature to lie between 0 and 1."
   ]
  },
  {
   "cell_type": "code",
   "execution_count": 31,
   "metadata": {},
   "outputs": [
    {
     "data": {
      "text/plain": [
       "<matplotlib.text.Text at 0x122ea2250>"
      ]
     },
     "execution_count": 31,
     "metadata": {},
     "output_type": "execute_result"
    },
    {
     "data": {
      "image/png": "[encoded data removed]",
      "text/plain": [
       "<matplotlib.figure.Figure at 0x11f879a50>"
      ]
     },
     "metadata": {},
     "output_type": "display_data"
    }
   ],
   "source": [
    "def rescale_series(ser):\n",
    "    ser_min = ser.min() - 1e-5\n",
    "    ser_max = ser.max() + 1e-5\n",
    "    new_ser = (ser - ser_min) / (ser_max - ser_min)\n",
    "    new_ser = new_ser.apply(lambda x: np.sqrt(2) * special.erfinv(2 * x - 1))\n",
    "    return new_ser\n",
    "\n",
    "fraud_df[\"signup_to_purchase_time\"] = rescale_series(fraud_df.signup_to_purchase_seconds)\n",
    "fraud_df.drop(\"signup_to_purchase_seconds\", axis=1, inplace=True)\n",
    "fraud_df.signup_to_purchase_time.hist(normed=True, bins=25)\n",
    "plt.xlabel(\"Signup to Purchase time (seconds)\", fontsize=15)\n",
    "plt.ylabel(\"Normalized Count\", fontsize=15)"
   ]
  },
  {
   "cell_type": "markdown",
   "metadata": {},
   "source": [
    "All desired features are now created but I'll now rescale them to lie between 0 and 1."
   ]
  },
  {
   "cell_type": "code",
   "execution_count": 32,
   "metadata": {},
   "outputs": [],
   "source": [
    "def rescale_series(ser):\n",
    "    ser_min = ser.min()\n",
    "    ser_max = ser.max()\n",
    "    new_ser = (ser - ser_min) / (ser_max - ser_min)\n",
    "    return new_ser\n",
    "\n",
    "# Get all column names that are not one-hot-encoded\n",
    "non_onehotencoded_cols = [feature for feature in fraud_df.columns if \"country\" not in feature and feature != \"class\"]\n",
    "\n",
    "# Rescale all non one-hot-encoded columns\n",
    "for col in non_onehotencoded_cols:\n",
    "    fraud_df[col] = rescale_series(fraud_df[col])\n",
    "\n",
    "X = fraud_df[ [col for col in fraud_df.columns if col != \"class\"] ]\n",
    "Y = fraud_df[\"class\"]"
   ]
  },
  {
   "cell_type": "markdown",
   "metadata": {},
   "source": [
    "At the moment, I have over almost 200 features which is a bit much. I'll perform feature selection here with an extra trees classifier to reduce this number."
   ]
  },
  {
   "cell_type": "code",
   "execution_count": 33,
   "metadata": {},
   "outputs": [
    {
     "data": {
      "text/html": [
       "<div>\n",
       "<table border=\"1\" class=\"dataframe\">\n",
       "  <thead>\n",
       "    <tr style=\"text-align: right;\">\n",
       "      <th></th>\n",
       "      <th>feature</th>\n",
       "      <th>importance</th>\n",
       "    </tr>\n",
       "  </thead>\n",
       "  <tbody>\n",
       "    <tr>\n",
       "      <th>183</th>\n",
       "      <td>signup_to_purchase_time</td>\n",
       "      <td>0.677502</td>\n",
       "    </tr>\n",
       "    <tr>\n",
       "      <th>0</th>\n",
       "      <td>mean_number_of_userids</td>\n",
       "      <td>0.316941</td>\n",
       "    </tr>\n",
       "  </tbody>\n",
       "</table>\n",
       "</div>"
      ],
      "text/plain": [
       "                     feature  importance\n",
       "183  signup_to_purchase_time    0.677502\n",
       "0     mean_number_of_userids    0.316941"
      ]
     },
     "execution_count": 33,
     "metadata": {},
     "output_type": "execute_result"
    }
   ],
   "source": [
    "# Create an instance of the extra trees classifier\n",
    "clf = ExtraTreesClassifier(n_estimators=200)\n",
    "_ = clf.fit(X, Y)\n",
    "\n",
    "# Create a dataframe to map features to their importances\n",
    "features = pd.DataFrame()\n",
    "features['feature'] = X.columns\n",
    "features['importance'] = clf.feature_importances_\n",
    "\n",
    "# Print out important features\n",
    "features[ features.importance > np.mean(features.importance) ].sort_values(by='importance', ascending=False)"
   ]
  },
  {
   "cell_type": "markdown",
   "metadata": {},
   "source": [
    "It looks like the country of origin doesn't matter after all. Since there are only two features, I can visualize the data quite easily."
   ]
  },
  {
   "cell_type": "code",
   "execution_count": 34,
   "metadata": {},
   "outputs": [
    {
     "data": {
      "text/plain": [
       "<matplotlib.text.Text at 0x10b2b30d0>"
      ]
     },
     "execution_count": 34,
     "metadata": {},
     "output_type": "execute_result"
    },
    {
     "data": {
      "image/png": "[encoded data removed]",
      "text/plain": [
       "<matplotlib.figure.Figure at 0x114667290>"
      ]
     },
     "metadata": {},
     "output_type": "display_data"
    }
   ],
   "source": [
    "X = fraud_df[ [col for col in fraud_df.columns if \"country\" not in col and col != \"class\"] ]\n",
    "\n",
    "sns.lmplot(\"signup_to_purchase_time\", \"mean_number_of_userids\",\n",
    "           data=pd.concat([X, Y], axis=1),\n",
    "           fit_reg=False,\n",
    "           hue=\"class\",  \n",
    "           scatter_kws={\"marker\": \"D\", \"s\": 100})\n",
    "plt.xlabel('Time between Sign-up and Purchase', fontsize=15)\n",
    "plt.ylabel('Mean Number of User IDs', fontsize=15)"
   ]
  },
  {
   "cell_type": "markdown",
   "metadata": {},
   "source": [
    "The fraud and non-fraud points are not completely isolated from each other so it's not clear what kind of performance I should expect. We'll see in the next section how the models perform. Before moving on, I'll just re-index the data for cleanliness."
   ]
  },
  {
   "cell_type": "code",
   "execution_count": 35,
   "metadata": {
    "collapsed": true
   },
   "outputs": [],
   "source": [
    "X.index = range(len(X))\n",
    "Y.index = range(len(Y))"
   ]
  },
  {
   "cell_type": "markdown",
   "metadata": {},
   "source": [
    "## Modeling\n",
    "There are two ways to approach anomaly detection from a modeling perspective, supervised and unsupervised. I'll begin with the supervised approach where I employ an isolation forest algorithm. \n",
    "\n",
    "The isolation forest isolates observations by randomly selecting a feature and then recursively selecting random split values until the sample is isolated. This recursive splitting can be represented as a tree structure where the number of splittings is equivalent to the path length from the root node to the terminating node. This path length, averaged over a forest of similarly generated trees, is measure of normality. The shorter the average path length, the less work it takes to isolate the sample and the more likely it is that the sample represents an anomaly.   \n",
    "\n",
    "Below, I perform a 5-fold cross validation with a grid search over the number of estimators in the forest. As I'm interested in maximizing both precision and recall simultaneously, I score each cross validation using the F1 score."
   ]
  },
  {
   "cell_type": "code",
   "execution_count": 36,
   "metadata": {},
   "outputs": [
    {
     "name": "stdout",
     "output_type": "stream",
     "text": [
      "Fitting 5 folds for each of 9 candidates, totalling 45 fits\n",
      "[CV] n_estimators=100 ................................................\n",
      "[CV] n_estimators=100 ................................................\n",
      "[CV] n_estimators=100 ................................................\n",
      "[CV] n_estimators=100 ................................................\n",
      "[CV] n_estimators=100 ................................................\n",
      "[CV] n_estimators=150 ................................................\n",
      "[CV] n_estimators=150 ................................................\n",
      "[CV] n_estimators=150 ................................................\n",
      "[CV] n_estimators=150 ................................................\n",
      "[CV] n_estimators=150 ................................................\n",
      "[CV] ....................... n_estimators=100, score=0.956335 -  15.7s\n",
      "[CV] ....................... n_estimators=100, score=0.957250 -  16.0s\n",
      "[CV] n_estimators=200 ................................................\n",
      "[CV] ....................... n_estimators=100, score=0.958566 -  16.2s\n",
      "[CV] n_estimators=200 ................................................\n",
      "[CV] ....................... n_estimators=100, score=0.958029 -  16.0s\n",
      "[CV] n_estimators=200 ................................................\n",
      "[CV] n_estimators=200 ................................................\n",
      "[CV] ....................... n_estimators=100, score=0.957252 -  16.5s\n",
      "[CV] n_estimators=200 ................................................\n"
     ]
    },
    {
     "name": "stderr",
     "output_type": "stream",
     "text": [
      "[Parallel(n_jobs=10)]: Done   5 tasks      | elapsed:   16.8s\n"
     ]
    },
    {
     "name": "stdout",
     "output_type": "stream",
     "text": [
      "[CV] ....................... n_estimators=150, score=0.957746 -  22.4s\n",
      "[CV] ....................... n_estimators=150, score=0.958184 -  22.9s\n",
      "[CV] n_estimators=250 ................................................\n",
      "[CV] n_estimators=250 ................................................\n",
      "[CV] ....................... n_estimators=150, score=0.956602 -  23.3s\n",
      "[CV] ....................... n_estimators=150, score=0.957254 -  23.4s\n",
      "[CV] ....................... n_estimators=150, score=0.957082 -  23.6s\n",
      "[CV] n_estimators=250 ................................................\n",
      "[CV] n_estimators=250 ................................................\n",
      "[CV] n_estimators=250 ................................................\n",
      "[CV] ....................... n_estimators=200, score=0.958191 -  34.3s\n",
      "[CV] ....................... n_estimators=200, score=0.958199 -  34.6s\n",
      "[CV] n_estimators=300 ................................................\n",
      "[CV] n_estimators=300 ................................................\n"
     ]
    },
    {
     "name": "stderr",
     "output_type": "stream",
     "text": [
      "[Parallel(n_jobs=10)]: Done  12 tasks      | elapsed:   51.0s\n"
     ]
    },
    {
     "name": "stdout",
     "output_type": "stream",
     "text": [
      "[CV] ....................... n_estimators=200, score=0.958447 -  34.5s\n",
      "[CV] ....................... n_estimators=200, score=0.956583 -  35.0s\n",
      "[CV] n_estimators=300 ................................................\n",
      "[CV] n_estimators=300 ................................................\n",
      "[CV] ....................... n_estimators=200, score=0.956475 -  35.5s\n",
      "[CV] n_estimators=300 ................................................\n",
      "[CV] ....................... n_estimators=250, score=0.958490 -  45.1s\n",
      "[CV] n_estimators=350 ................................................\n",
      "[CV] ....................... n_estimators=250, score=0.958240 -  45.5s\n",
      "[CV] ....................... n_estimators=250, score=0.958521 -  44.8s\n",
      "[CV] n_estimators=350 ................................................\n",
      "[CV] n_estimators=350 ................................................\n",
      "[CV] ....................... n_estimators=250, score=0.956271 -  45.5s\n",
      "[CV] n_estimators=350 ................................................\n",
      "[CV] ....................... n_estimators=250, score=0.956283 -  46.1s\n",
      "[CV] n_estimators=350 ................................................\n",
      "[CV] ....................... n_estimators=300, score=0.958505 -  54.1s\n",
      "[CV] n_estimators=400 ................................................\n"
     ]
    },
    {
     "name": "stderr",
     "output_type": "stream",
     "text": [
      "[Parallel(n_jobs=10)]: Done  21 tasks      | elapsed:  1.8min\n"
     ]
    },
    {
     "name": "stdout",
     "output_type": "stream",
     "text": [
      "[CV] ....................... n_estimators=300, score=0.958243 -  54.6s\n",
      "[CV] n_estimators=400 ................................................\n",
      "[CV] ....................... n_estimators=300, score=0.956441 -  54.2s\n",
      "[CV] ....................... n_estimators=300, score=0.958332 -  53.6s\n",
      "[CV] n_estimators=400 ................................................\n",
      "[CV] n_estimators=400 ................................................\n",
      "[CV] ....................... n_estimators=300, score=0.957258 -  54.8s\n",
      "[CV] n_estimators=400 ................................................\n",
      "[CV] ....................... n_estimators=350, score=0.957966 - 1.0min\n",
      "[CV] ....................... n_estimators=350, score=0.958275 - 1.0min\n",
      "[CV] n_estimators=450 ................................................\n",
      "[CV] ....................... n_estimators=350, score=0.956657 - 1.0min\n",
      "[CV] ....................... n_estimators=350, score=0.958303 - 1.0min\n",
      "[CV] n_estimators=450 ................................................\n",
      "[CV] n_estimators=450 ................................................\n",
      "[CV] n_estimators=450 ................................................\n",
      "[CV] ....................... n_estimators=350, score=0.956032 - 1.0min\n",
      "[CV] n_estimators=450 ................................................\n",
      "[CV] ....................... n_estimators=400, score=0.958843 - 1.1min\n",
      "[CV] ....................... n_estimators=400, score=0.958175 - 1.2min\n",
      "[CV] n_estimators=500 ................................................\n"
     ]
    },
    {
     "name": "stderr",
     "output_type": "stream",
     "text": [
      "[Parallel(n_jobs=10)]: Done  31 out of  45 | elapsed:  2.9min remaining:  1.3min\n"
     ]
    },
    {
     "name": "stdout",
     "output_type": "stream",
     "text": [
      "[CV] n_estimators=500 ................................................\n",
      "[CV] ....................... n_estimators=400, score=0.956752 - 1.2min\n",
      "[CV] ....................... n_estimators=400, score=0.958070 - 1.2min\n",
      "[CV] ....................... n_estimators=400, score=0.956373 - 1.2min\n",
      "[CV] n_estimators=500 ................................................\n",
      "[CV] n_estimators=500 ................................................\n",
      "[CV] n_estimators=500 ................................................\n",
      "[CV] ....................... n_estimators=450, score=0.957569 - 1.4min\n"
     ]
    },
    {
     "name": "stderr",
     "output_type": "stream",
     "text": [
      "[Parallel(n_jobs=10)]: Done  36 out of  45 | elapsed:  3.5min remaining:   53.2s\n"
     ]
    },
    {
     "name": "stdout",
     "output_type": "stream",
     "text": [
      "[CV] ....................... n_estimators=450, score=0.957457 - 1.4min\n",
      "[CV] ....................... n_estimators=450, score=0.958597 - 1.4min\n",
      "[CV] ....................... n_estimators=450, score=0.958222 - 1.4min\n",
      "[CV] ....................... n_estimators=450, score=0.956744 - 1.4min\n",
      "[CV] ....................... n_estimators=500, score=0.958759 - 1.1min\n"
     ]
    },
    {
     "name": "stderr",
     "output_type": "stream",
     "text": [
      "[Parallel(n_jobs=10)]: Done  41 out of  45 | elapsed:  4.0min remaining:   23.4s\n"
     ]
    },
    {
     "name": "stdout",
     "output_type": "stream",
     "text": [
      "[CV] ....................... n_estimators=500, score=0.958247 - 1.1min\n",
      "[CV] ....................... n_estimators=500, score=0.957598 - 1.1min\n",
      "[CV] ....................... n_estimators=500, score=0.958416 - 1.1min\n",
      "[CV] ....................... n_estimators=500, score=0.956967 - 1.1min\n"
     ]
    },
    {
     "name": "stderr",
     "output_type": "stream",
     "text": [
      "[Parallel(n_jobs=10)]: Done  45 out of  45 | elapsed:  4.0min finished\n"
     ]
    }
   ],
   "source": [
    "# Split the data \n",
    "X_dev, X_eval, Y_dev, Y_eval = train_test_split(X, Y, train_size=.75, random_state=23)\n",
    "# The isolation forest returns values of 1 for normal and -1 for anomalous so I transform target values to match\n",
    "Y_dev = Y_dev.apply(lambda x: 1 if x == 0 else -1)\n",
    "Y_eval = Y_eval.apply(lambda x: 1 if x == 0 else -1)\n",
    "\n",
    "# Initiate the isolation forest class and specify the percentage of anomalous samples in the development dataset\n",
    "IF = IsolationForest(max_samples=\"auto\", contamination=0.095)\n",
    "\n",
    "# Define the parameter grid to search over\n",
    "param_grid = {\"n_estimators\": [100, 150, 200, 250, 300, 350, 400, 450, 500]}\n",
    "\n",
    "# Define the grid search object\n",
    "clf = GridSearchCV(IF, \n",
    "                   param_grid=param_grid, \n",
    "                   cv=5, \n",
    "                   n_jobs=10,\n",
    "                   scoring=\"f1\",\n",
    "                   verbose=10)\n",
    "\n",
    "# Perform grid search\n",
    "_ = clf.fit(X_dev, Y_dev)"
   ]
  },
  {
   "cell_type": "markdown",
   "metadata": {},
   "source": [
    "Here I print out the full classification report and produce the ROC curve."
   ]
  },
  {
   "cell_type": "code",
   "execution_count": 37,
   "metadata": {},
   "outputs": [
    {
     "name": "stdout",
     "output_type": "stream",
     "text": [
      "             precision    recall  f1-score   support\n",
      "\n",
      "  anomalous       0.60      0.59      0.59      3546\n",
      "     normal       0.96      0.96      0.96     34232\n",
      "\n",
      "avg / total       0.92      0.92      0.92     37778\n",
      "\n",
      "Area under ROC curve: 0.773\n"
     ]
    },
    {
     "data": {
      "image/png": "[encoded data removed]",
      "text/plain": [
       "<matplotlib.figure.Figure at 0x1165dacd0>"
      ]
     },
     "metadata": {},
     "output_type": "display_data"
    }
   ],
   "source": [
    "IF_best = clf.best_estimator_\n",
    "Y_predicted = IF_best.predict(X_eval)\n",
    "roc_auc = roc_auc_score(Y_eval, Y_predicted)\n",
    "\n",
    "print classification_report(Y_eval, \n",
    "                            Y_predicted,\n",
    "                            target_names=[\"anomalous\", \"normal\"])\n",
    "print \"Area under ROC curve: {:0.3f}\".format(roc_auc)\n",
    "\n",
    "# Compute ROC curve and area under the curve\n",
    "IF_probs = IF_best.decision_function(X_eval)\n",
    "fpr, tpr, thresholds = roc_curve(Y_eval, IF_probs)\n",
    "\n",
    "plt.plot(fpr, tpr, lw=1, label='ROC (area = %0.3f)'%(roc_auc))\n",
    "\n",
    "plt.plot([0, 1], [0, 1], '--', color=(0.6, 0.6, 0.6), label='Luck')\n",
    "plt.xlim([-0.05, 1.05])\n",
    "plt.ylim([-0.05, 1.05])\n",
    "plt.xlabel('False Positive Rate', fontsize=15)\n",
    "plt.ylabel('True Positive Rate', fontsize=15)\n",
    "plt.title('Receiver Operating Characteristic (ROC) curve', fontsize=12)\n",
    "plt.legend(loc=\"lower right\", frameon = True).get_frame().set_edgecolor('black')\n",
    "plt.grid(True, linestyle = 'dotted')\n",
    "plt.show()"
   ]
  },
  {
   "cell_type": "markdown",
   "metadata": {},
   "source": [
    "I'll also plot the decision boundary here."
   ]
  },
  {
   "cell_type": "code",
   "execution_count": 38,
   "metadata": {},
   "outputs": [
    {
     "data": {
      "image/png": "[encoded data removed]",
      "text/plain": [
       "<matplotlib.figure.Figure at 0x117cf6590>"
      ]
     },
     "metadata": {},
     "output_type": "display_data"
    }
   ],
   "source": [
    "# Set figure size\n",
    "plt.figure(figsize=(10,6))\n",
    "\n",
    "# plot the contour lines\n",
    "xx, yy = np.meshgrid(np.linspace(0, 1, 50), np.linspace(0, 1, 50))\n",
    "Z = IF_best.decision_function(np.c_[xx.ravel(), yy.ravel()])\n",
    "Z = Z.reshape(xx.shape)\n",
    "plt.contourf(xx, yy, Z, cmap=plt.cm.Blues_r)\n",
    "\n",
    "# Plot normal and anomalous data\n",
    "plt.scatter(X_eval[Y_eval==1].signup_to_purchase_time, X_eval[Y_eval==1].mean_number_of_userids, \n",
    "            color=\"salmon\", label=\"normals\")\n",
    "plt.scatter(X_eval[Y_eval==-1].signup_to_purchase_time, X_eval[Y_eval==-1].mean_number_of_userids, \n",
    "            color=\"white\", label=\"anomalies\")\n",
    "\n",
    "# Set labels and legend\n",
    "plt.xlabel('Time between Sign-up and Purchase', fontsize=15)\n",
    "plt.ylabel('Mean Number of User IDs', fontsize=15)\n",
    "for text in plt.legend(bbox_to_anchor=(.95, .95)).get_texts():\n",
    "    text.set_color(\"white\")"
   ]
  },
  {
   "cell_type": "markdown",
   "metadata": {},
   "source": [
    "Now I'll try the unsupervised approach. In this approach, an algorithm is fed only normal data, i.e., with no anomalies in it. From this, it learns a decision boundary surrounding the normal data and then classifies new data as similar or different to the training set. \n",
    "\n",
    "Because this algorithm is unsupervised, splitting the dataset is somewhat non-standard. All the anomalies should be in the cross validation and evaluation sets only. The model will learn a decision boundary surrounding the normal data and then try to identify anomalies by their N-dimensional distance from the inside of this boundary. The cross validation and evaluation sets will consist of a mix of normal and anomalous instances. It doesn't seem that scikit-learn provides this kind of split so I'll do it here by hand."
   ]
  },
  {
   "cell_type": "code",
   "execution_count": 42,
   "metadata": {},
   "outputs": [],
   "source": [
    "# Add the target vector back to the feature set\n",
    "X[\"class\"] = Y\n",
    "\n",
    "# Separate the anomalies from the normals\n",
    "X_anomalies = X[ X[\"class\"] == 1 ]\n",
    "X_normals = X[ X[\"class\"] == 0 ]\n",
    "\n",
    "# Randomly sample 70% of the indices of the normal dataset for training\n",
    "train_idxs = sample(X_normals.index, int(0.7 * X_normals.shape[0]))\n",
    "X_train = X_normals.ix[train_idxs]\n",
    "# Keep the rest for the testing set\n",
    "X_testing = X_normals.drop(train_idxs)\n",
    "# The testing set should now be the combination of the remaining normal instances not in the training set\n",
    "# and the anomaly instances\n",
    "X_testing = pd.concat([X_testing, X_anomalies], axis=0)\n",
    "\n",
    "# Shuffle the rows for both datasets\n",
    "X_train = X_train.sample(frac=1).reset_index(drop=True)\n",
    "X_testing = X_testing.sample(frac=1).reset_index(drop=True)\n",
    "\n",
    "# Split the testing dataframe up into cross validation and evaluation datasets\n",
    "Y_testing = X_testing[\"class\"]\n",
    "X_testing = X_testing[ [col for col in X_testing.columns if col != \"class\"] ]\n",
    "X_cv, X_eval, Y_cv, Y_eval = train_test_split(X_testing, Y_testing, train_size=.7, random_state=23)\n",
    "\n",
    "# Map Y_cv and Y_eval values to 1 (normal), -1 (anomalies) convention\n",
    "Y_cv = Y_cv.apply(lambda x: 1 if x == 0 else -1)\n",
    "Y_eval = Y_eval.apply(lambda x: 1 if x == 0 else -1)\n",
    "\n",
    "# Finally, drop the class column from the training set\n",
    "X_train = X_train[ [col for col in X_testing.columns if col != \"class\"] ]"
   ]
  },
  {
   "cell_type": "markdown",
   "metadata": {},
   "source": [
    "I now fit the hyperparameters using cross validation. First, I choose a random set of hyperparameters. Using this set, I then fit the one class SVM model to the training data and use this fitted model to predict the cross validation set target vector values. I then use the F1 score to simultaneously optimize the precision and recall while comparing my predictions with the ground truth values."
   ]
  },
  {
   "cell_type": "code",
   "execution_count": 43,
   "metadata": {},
   "outputs": [
    {
     "name": "stdout",
     "output_type": "stream",
     "text": [
      "Performing 10 fits...\n",
      "\n",
      "Fitting model...\n",
      "F1 score based on nu=0.010, gamma=0.30: 0.923\n",
      "9 fits remaining...\n",
      "Fitting model...\n",
      "F1 score based on nu=0.001, gamma=0.10: 0.926\n",
      "8 fits remaining...\n",
      "Fitting model...\n",
      "F1 score based on nu=0.008, gamma=0.03: 0.924\n",
      "7 fits remaining...\n",
      "Fitting model...\n",
      "F1 score based on nu=0.001, gamma=0.30: 0.926\n",
      "6 fits remaining...\n",
      "Fitting model...\n",
      "F1 score based on nu=0.003, gamma=0.10: 0.926\n",
      "5 fits remaining...\n",
      "Fitting model...\n",
      "F1 score based on nu=0.001, gamma=0.03: 0.926\n",
      "4 fits remaining...\n",
      "Fitting model...\n",
      "F1 score based on nu=0.010, gamma=0.03: 0.923\n",
      "3 fits remaining...\n",
      "Fitting model...\n",
      "F1 score based on nu=0.006, gamma=0.10: 0.925\n",
      "2 fits remaining...\n",
      "Fitting model...\n",
      "F1 score based on nu=0.003, gamma=0.01: 0.926\n",
      "1 fits remaining...\n",
      "Fitting model...\n",
      "F1 score based on nu=0.008, gamma=0.01: 0.924\n",
      "0 fits remaining...\n"
     ]
    }
   ],
   "source": [
    "# Define the parameter grid to search over\n",
    "param_grid = {\"nu\": np.linspace(0.001, .01, 5), \"gamma\": [0.01, .03, 0.1, 0.3]}\n",
    "param_list = list(itertools.product(param_grid[\"nu\"], param_grid[\"gamma\"]))\n",
    "\n",
    "def random_gridsearch(param_list, n_sample, X_train, X_cv, Y_cv):\n",
    "\n",
    "    f1_max = 0\n",
    "    param_list = sample(param_list, n_sample)\n",
    "    remaining_fits = n_sample\n",
    "    print \"Performing {} fits...\\n\".format(remaining_fits)\n",
    "    for params in param_list:\n",
    "        # Initialize class and set hyperparameters\n",
    "        nu, gamma = params\n",
    "        OCSVM = OneClassSVM(kernel=\"rbf\", nu=nu, gamma=gamma)\n",
    "\n",
    "        # Fit model\n",
    "        print \"Fitting model...\"\n",
    "        OCSVM.fit(X_train)\n",
    "\n",
    "        # Calculate F1 score\n",
    "        cv_preds = OCSVM.predict(X_cv)\n",
    "        f1 = f1_score(Y_cv.values, cv_preds, average=\"binary\")\n",
    "\n",
    "        # Print results\n",
    "        print \"F1 score based on nu={0:.3f}, gamma={1:.2f}: {2:.3f}\".format(nu, gamma, f1)\n",
    "\n",
    "        # Optimize for F1 score\n",
    "        if f1 > f1_max:\n",
    "            f1_max = f1\n",
    "            OCSVM_best = OCSVM\n",
    "\n",
    "        remaining_fits -= 1\n",
    "        print \"{} fits remaining...\".format(remaining_fits)\n",
    "        \n",
    "    return f1_max, OCSVM_best\n",
    "        \n",
    "f1_max, OCSVM_best = random_gridsearch(param_list, 10, X_train, X_cv, Y_cv)"
   ]
  },
  {
   "cell_type": "markdown",
   "metadata": {},
   "source": [
    "Here I print out the full classification report and produce the ROC curve."
   ]
  },
  {
   "cell_type": "code",
   "execution_count": 44,
   "metadata": {},
   "outputs": [
    {
     "name": "stdout",
     "output_type": "stream",
     "text": [
      "             precision    recall  f1-score   support\n",
      "\n",
      "  anomalous       1.00      0.53      0.69      4287\n",
      "     normal       0.86      1.00      0.92     12285\n",
      "\n",
      "avg / total       0.89      0.88      0.86     16572\n",
      "\n",
      "Area under ROC curve: 0.765\n"
     ]
    },
    {
     "data": {
      "image/png": "[encoded data removed]",
      "text/plain": [
       "<matplotlib.figure.Figure at 0x11579fb10>"
      ]
     },
     "metadata": {},
     "output_type": "display_data"
    }
   ],
   "source": [
    "OCSVM_best.fit(X_train)\n",
    "Y_predicted = OCSVM_best.predict(X_eval)\n",
    "roc_auc = roc_auc_score(Y_eval, Y_predicted)\n",
    "\n",
    "print classification_report(Y_eval, \n",
    "                            Y_predicted,\n",
    "                            target_names=[\"anomalous\", \"normal\"])\n",
    "print \"Area under ROC curve: {:0.3f}\".format(roc_auc)\n",
    "\n",
    "# Compute ROC curve and area under the curve\n",
    "OCSVM_probs = OCSVM_best.decision_function(X_eval)\n",
    "fpr, tpr, thresholds = roc_curve(Y_eval, OCSVM_probs)\n",
    "\n",
    "plt.plot(fpr, tpr, lw=1, label='ROC (area = %0.3f)'%(roc_auc))\n",
    "\n",
    "plt.plot([0, 1], [0, 1], '--', color=(0.6, 0.6, 0.6), label='Luck')\n",
    "plt.xlim([-0.05, 1.05])\n",
    "plt.ylim([-0.05, 1.05])\n",
    "plt.xlabel('False Positive Rate', fontsize=15)\n",
    "plt.ylabel('True Positive Rate', fontsize=15)\n",
    "plt.title('Receiver Operating Characteristic (ROC) curve', fontsize=12)\n",
    "plt.legend(loc=\"lower right\", frameon = True).get_frame().set_edgecolor('black')\n",
    "plt.grid(True, linestyle = 'dotted')\n",
    "plt.show()"
   ]
  },
  {
   "cell_type": "markdown",
   "metadata": {},
   "source": [
    "I'll also plot the decision boundary here."
   ]
  },
  {
   "cell_type": "code",
   "execution_count": 45,
   "metadata": {},
   "outputs": [
    {
     "data": {
      "image/png": "[encoded data removed]",
      "text/plain": [
       "<matplotlib.figure.Figure at 0x117d0d690>"
      ]
     },
     "metadata": {},
     "output_type": "display_data"
    }
   ],
   "source": [
    "# Set figure size\n",
    "plt.figure(figsize=(10,6))\n",
    "\n",
    "# plot the contour lines\n",
    "xx, yy = np.meshgrid(np.linspace(0, 1, 50), np.linspace(0, 1, 50))\n",
    "Z = OCSVM_best.decision_function(np.c_[xx.ravel(), yy.ravel()])\n",
    "Z = Z.reshape(xx.shape)\n",
    "plt.contourf(xx, yy, Z, cmap=plt.cm.Blues_r)\n",
    "\n",
    "# Plot normal and anomalous data\n",
    "plt.scatter(X_eval[Y_eval==1].signup_to_purchase_time, X_eval[Y_eval==1].mean_number_of_userids, \n",
    "            color=\"salmon\", label=\"normals\")\n",
    "plt.scatter(X_eval[Y_eval==-1].signup_to_purchase_time, X_eval[Y_eval==-1].mean_number_of_userids, \n",
    "            color=\"white\", label=\"anomalies\")\n",
    "\n",
    "# Set labels and legend\n",
    "plt.xlabel('Time between Sign-up and Purchase', fontsize=15)\n",
    "plt.ylabel('Mean Number of User IDs', fontsize=15)\n",
    "for text in plt.legend(bbox_to_anchor=(.95, .95)).get_texts():\n",
    "    text.set_color(\"white\")"
   ]
  },
  {
   "cell_type": "markdown",
   "metadata": {},
   "source": [
    "## Conclusions\n",
    "\n",
    "**Observations**:\n",
    "* Not all ip addresses in the dataset can be tracked to a country of origin. Regardless, it seems as though country of origin does not play a significant role in identifying fraud so it doesn't really matter.\n",
    "* I built two models:\n",
    "    * Isolation forest: a supervised alogorithm based on analyzing how many splits on features are necessary to isolate a given sample.\n",
    "    * One Class Support Vector Machine: an unsupervised algorithm based on learning a decision boundary surrounding non-anomalous data and then trying to identify anomalies by determining their distance from this boundary.     \n",
    "* To optimize for both precision and recall simultaneously, I decided to optimize for F1 score rather than accuracy. Using this method of optimization, I found that **the isolation forest performs better than the one class SVM**. The SVM has a very high precision for identifying fraud but a rather low recall for fraud. This indicates to me that the SVM is simply guessing fraud more often than the isolation forest. This understanding is supported by plots of the decision boundaries. The SVM generates a circular decision boundary due to the radial basis function kernel but this doesn't allow for much flexibility in the face of a multi-modal, non-gaussian feature space. The isolation forest is far more flexible and so, even though its scores are not drastically different, I expect it to generalize much better than the SVM to further data. \n",
    "* The most important features, in order of importance, to spot fraud were determined to be:\n",
    "    * The speed at which they moved through the entire sales funnel (from sign-up to purchase)\n",
    "    * Whether or not multiple user id's were being generated from a single device or ip address\n",
    "\n",
    "**Recommendations**:   \n",
    "I recommend implementing the isolation forest model into production. I also have two specific recommendations for the user experience team and one for the security team.\n",
    "1. Make sure to require the full name and email address from a user in order to sign up. When a user forgets their username/password, give them an easy path to follow to **reset** their password and require their full name and email address in order to do it. That way, the user's original user id can be found in the database and deleted before giving them a new user id. This minimizes the chances of a normal user having multiple user id's and reduces the chances of mistaking them for a fraudster.\n",
    "2. After a user signs up, immediately present them with potential offers/discounts if possible. This could be advertised as a simple thank you for signing up but, for normal users, it will increase their chances of moving to purchase while also giving them something to consider and thereby slowing them down a little bit, making it harder to confuse them with a bot which would likely ignore all offers for discounts.\n",
    "3. I also strongly recommend enhancing security during the first three weeks of the year as there seems to be a spike in fraudulent activity during that time."
   ]
  }
 ],
 "metadata": {
  "kernelspec": {
   "display_name": "Python 3",
   "language": "python",
   "name": "python3"
  },
  "language_info": {
   "codemirror_mode": {
    "name": "ipython",
    "version": 3
   },
   "file_extension": ".py",
   "mimetype": "text/x-python",
   "name": "python",
   "nbconvert_exporter": "python",
   "pygments_lexer": "ipython3",
   "version": "3.7.3"
  }
 },
 "nbformat": 4,
 "nbformat_minor": 1
}
